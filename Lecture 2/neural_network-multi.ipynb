{
 "cells": [
  {
   "cell_type": "code",
   "execution_count": 1,
   "metadata": {},
   "outputs": [],
   "source": [
    "import numpy as np\n",
    "import scipy as sp\n",
    "import scipy.stats as stats\n",
    "\n",
    "import matplotlib.pyplot as plt\n",
    "%matplotlib inline"
   ]
  },
  {
   "cell_type": "code",
   "execution_count": 2,
   "metadata": {},
   "outputs": [],
   "source": [
    "import torch \n",
    "import torchvision"
   ]
  },
  {
   "cell_type": "markdown",
   "metadata": {},
   "source": [
    "\n",
    "## Zadanie 1"
   ]
  },
  {
   "cell_type": "markdown",
   "metadata": {},
   "source": [
    "Wytrenuj sieć na danych  z pliku `reg_multi.npy`. "
   ]
  },
  {
   "cell_type": "code",
   "execution_count": 3,
   "metadata": {},
   "outputs": [],
   "source": [
    "data = np.load('reg_multi.npy')"
   ]
  },
  {
   "cell_type": "code",
   "execution_count": 4,
   "metadata": {
    "scrolled": true
   },
   "outputs": [],
   "source": [
    "xs = data[:, :-1]\n",
    "ys = data[:,-1]"
   ]
  },
  {
   "cell_type": "code",
   "execution_count": 5,
   "metadata": {},
   "outputs": [],
   "source": [
    "t_xs = torch.from_numpy(xs) \n",
    "t_ys = torch.from_numpy(ys).view(-1,1)"
   ]
  },
  {
   "cell_type": "code",
   "execution_count": 6,
   "metadata": {},
   "outputs": [],
   "source": [
    "model = torch.nn.Sequential(torch.nn.Linear(16,256),torch.nn.ReLU(), \n",
    "                            torch.nn.Linear(256,128),torch.nn.ReLU(), \n",
    "                            torch.nn.Linear(128,64),torch.nn.ReLU(), \n",
    "                            torch.nn.Linear(64,32),torch.nn.ReLU(), \n",
    "                            torch.nn.Linear(32,1))\n",
    "\n"
   ]
  },
  {
   "cell_type": "code",
   "execution_count": 7,
   "metadata": {},
   "outputs": [],
   "source": [
    "dataset = torch.utils.data.TensorDataset(t_xs, t_ys)\n",
    "(train_set, valid_set) = torch.utils.data.random_split(dataset,(50000,10000))"
   ]
  },
  {
   "cell_type": "code",
   "execution_count": 8,
   "metadata": {},
   "outputs": [],
   "source": [
    "train_loader = torch.utils.data.DataLoader(train_set, batch_size=100)\n",
    "\n",
    "optimizer = torch.optim.SGD(model.parameters(), lr =0.01)\n",
    "loss_func = torch.nn.MSELoss()"
   ]
  },
  {
   "cell_type": "code",
   "execution_count": 9,
   "metadata": {},
   "outputs": [],
   "source": [
    "err_train=[]\n",
    "err_valid=[]"
   ]
  },
  {
   "cell_type": "code",
   "execution_count": 10,
   "metadata": {},
   "outputs": [
    {
     "name": "stdout",
     "output_type": "stream",
     "text": [
      "epoch 0 0.242495  \n",
      "epoch 10 0.242656  \n",
      "epoch 20 0.242726  \n",
      "epoch 30 0.242834  \n",
      "epoch 40 0.242889  \n",
      "epoch 50 0.242231  \n",
      "epoch 60 0.239492  \n",
      "epoch 70 0.231533  \n",
      "epoch 80 0.188898  \n",
      "epoch 90 0.115855  \n",
      "epoch 100 0.091526  \n",
      "epoch 110 0.091289  \n",
      "epoch 120 0.072831  \n",
      "epoch 130 0.057686  \n",
      "epoch 140 0.049803  \n",
      "epoch 150 0.041546  \n",
      "epoch 160 0.037794  \n",
      "epoch 170 0.041320  \n",
      "epoch 180 0.041110  \n",
      "epoch 190 0.030350  \n",
      "epoch 200 0.031848  \n",
      "epoch 210 0.028522  \n",
      "epoch 220 0.029050  \n",
      "epoch 230 0.033080  \n",
      "epoch 240 0.033112  \n",
      "epoch 250 0.022821  \n",
      "epoch 260 0.022666  \n",
      "epoch 270 0.021369  \n",
      "epoch 280 0.020721  \n",
      "epoch 290 0.019565  \n",
      "epoch 300 0.019799  \n",
      "epoch 310 0.019790  \n",
      "epoch 320 0.017977  \n",
      "epoch 330 0.017458  \n",
      "epoch 340 0.017176  \n",
      "epoch 350 0.017899  \n",
      "epoch 360 0.015702  \n",
      "epoch 370 0.018685  \n",
      "epoch 380 0.017499  \n",
      "epoch 390 0.018575  \n",
      "CPU times: user 25min 33s, sys: 13min 14s, total: 38min 48s\n",
      "Wall time: 14min 12s\n"
     ]
    }
   ],
   "source": [
    "%%time\n",
    "\n",
    "for epoch in range(400):    \n",
    "    for datum in train_loader:\n",
    "        optimizer.zero_grad()\n",
    "        (features,target) = datum\n",
    "        pred = model(features)\n",
    "        loss = loss_func(pred, target)\n",
    "        err_train.append(loss.item())\n",
    "\n",
    "        loss.backward()\n",
    "        optimizer.step()\n",
    "   \n",
    "    if epoch%10 == 0:\n",
    "        print(\"epoch %d %f  \" % (epoch, loss) )   "
   ]
  },
  {
   "cell_type": "code",
   "execution_count": 11,
   "metadata": {},
   "outputs": [
    {
     "name": "stdout",
     "output_type": "stream",
     "text": [
      "final loss calculation:\n",
      "train set:\tloss = 0.020955650135874748\n",
      "validation set:\t loss = 0.06936105340719223\n"
     ]
    }
   ],
   "source": [
    "with torch.no_grad():\n",
    "    valid_pred  = model(valid_set[:][0])\n",
    "    valid_loss  = loss_func(valid_pred, valid_set[:][1])\n",
    "    \n",
    "    train_pred  = model(train_set[:][0])\n",
    "    train_loss  = loss_func(train_pred,train_set[:][1])\n",
    "\n",
    "print(\"final loss calculation:\")\n",
    "print(\"train set:\\tloss = {:}\\nvalidation set:\\t loss = {:}\".format(train_loss,valid_loss))"
   ]
  },
  {
   "cell_type": "code",
   "execution_count": 12,
   "metadata": {},
   "outputs": [
    {
     "data": {
      "text/plain": [
       "[<matplotlib.lines.Line2D at 0x7f7e1fa777b8>]"
      ]
     },
     "execution_count": 12,
     "metadata": {},
     "output_type": "execute_result"
    },
    {
     "data": {
      "image/png": "[encoded data removed]",
      "text/plain": [
       "<Figure size 432x288 with 1 Axes>"
      ]
     },
     "metadata": {
      "needs_background": "light"
     },
     "output_type": "display_data"
    }
   ],
   "source": [
    "plt.plot(err_train, '.', label='train', color = 'blue')"
   ]
  },
  {
   "cell_type": "code",
   "execution_count": 14,
   "metadata": {},
   "outputs": [],
   "source": [
    "torch.save(model, \"regression_multi.pt\")"
   ]
  },
  {
   "cell_type": "code",
   "execution_count": null,
   "metadata": {},
   "outputs": [],
   "source": []
  }
 ],
 "metadata": {
  "kernelspec": {
   "display_name": "Python 3",
   "language": "python",
   "name": "python3"
  },
  "language_info": {
   "codemirror_mode": {
    "name": "ipython",
    "version": 3
   },
   "file_extension": ".py",
   "mimetype": "text/x-python",
   "name": "python",
   "nbconvert_exporter": "python",
   "pygments_lexer": "ipython3",
   "version": "3.7.3"
  }
 },
 "nbformat": 4,
 "nbformat_minor": 4
}
