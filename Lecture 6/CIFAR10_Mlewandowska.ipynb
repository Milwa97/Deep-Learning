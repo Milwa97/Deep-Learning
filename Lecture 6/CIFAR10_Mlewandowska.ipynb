{
 "cells": [
  {
   "cell_type": "markdown",
   "metadata": {
    "colab_type": "text",
    "id": "kVclo602PoY0"
   },
   "source": [
    "<h3>  &nbsp;&nbsp;Train on GPU&nbsp;&nbsp; <a href=\"https://cloud.google.com/tpu/\"><img valign=\"middle\" src=\"https://raw.githubusercontent.com/GoogleCloudPlatform/tensorflow-without-a-phd/master/tensorflow-rl-pong/images/tpu-hexagon.png\" width=\"50\"></a></h3>\n",
    "\n",
    "1. On the main menu, click Runtime and select **Change runtime type**. Set \"GPU\" as the hardware accelerator.\n",
    "1. Click Runtime again and select **Runtime > Run All**. You can also run the cells manually with Shift-ENTER. "
   ]
  },
  {
   "cell_type": "code",
   "execution_count": 1,
   "metadata": {
    "colab": {
     "base_uri": "https://localhost:8080/",
     "height": 97
    },
    "colab_type": "code",
    "id": "Djq5H5QSK6hc",
    "outputId": "795e4200-216c-4099-b603-27d6325859c0"
   },
   "outputs": [
    {
     "name": "stderr",
     "output_type": "stream",
     "text": [
      "Using TensorFlow backend.\n"
     ]
    },
    {
     "data": {
      "text/plain": [
       "'2.2.4'"
      ]
     },
     "execution_count": 1,
     "metadata": {},
     "output_type": "execute_result"
    }
   ],
   "source": [
    "import keras\n",
    "keras.__version__"
   ]
  },
  {
   "cell_type": "code",
   "execution_count": 2,
   "metadata": {
    "colab": {},
    "colab_type": "code",
    "id": "cLjbWVSwLRAM"
   },
   "outputs": [],
   "source": [
    "import tensorflow.keras.models as models\n",
    "import tensorflow.keras.layers as layers \n",
    "import tensorflow.keras.optimizers as optimizers\n",
    "\n",
    "from keras.datasets import cifar10\n",
    "from keras.utils import to_categorical\n",
    "\n",
    "import numpy as np"
   ]
  },
  {
   "cell_type": "code",
   "execution_count": 3,
   "metadata": {},
   "outputs": [],
   "source": [
    "(train_images, train_labels), (test_images, test_labels) = cifar10.load_data()\n",
    "\n",
    "# MODIFY THE CODE TO ADD A VALIDATION SET\n",
    "\n",
    "validation_images = train_images[40000:]\n",
    "validation_labels = train_labels[40000:]\n",
    "\n",
    "train_images = train_images[:40000]\n",
    "train_labels = train_labels[:40000]"
   ]
  },
  {
   "cell_type": "code",
   "execution_count": 4,
   "metadata": {},
   "outputs": [
    {
     "name": "stdout",
     "output_type": "stream",
     "text": [
      "Training set: images (40000, 32, 32, 3)\tlabels: (40000, 1)\n",
      "validation set: images (10000, 32, 32, 3)\tlabels: (10000, 1)\n",
      "Test set: images (10000, 32, 32, 3)\tlabels: (10000, 1)\n"
     ]
    }
   ],
   "source": [
    "# CHECKER:\n",
    "\n",
    "print(\"Training set: images {:}\\tlabels: {:}\".format(train_images.shape, train_labels.shape ) )\n",
    "print(\"validation set: images {:}\\tlabels: {:}\".format(validation_images.shape, validation_labels.shape ) )\n",
    "print(\"Test set: images {:}\\tlabels: {:}\".format(test_images.shape, test_labels.shape ) )"
   ]
  },
  {
   "cell_type": "code",
   "execution_count": 5,
   "metadata": {
    "colab": {},
    "colab_type": "code",
    "id": "76yjbnbJLjsk"
   },
   "outputs": [],
   "source": [
    "train_images = train_images.reshape((40000, 32, 32, 3))\n",
    "train_images = train_images.astype('float32') / 255\n",
    "\n",
    "validation_images = validation_images.reshape((10000, 32, 32, 3))\n",
    "validation_images = validation_images.astype('float32') / 255\n",
    "\n",
    "test_images = test_images.reshape((10000, 32, 32, 3))\n",
    "test_images = test_images.astype('float32') / 255\n",
    "\n",
    "train_labels = to_categorical(train_labels)\n",
    "validation_labels = to_categorical(validation_labels)\n",
    "test_labels = to_categorical(test_labels)"
   ]
  },
  {
   "cell_type": "code",
   "execution_count": 6,
   "metadata": {},
   "outputs": [
    {
     "name": "stdout",
     "output_type": "stream",
     "text": [
      "Training set: images (40000, 32, 32, 3)\tlabels: (40000, 10)\n",
      "validation set: images (10000, 32, 32, 3)\tlabels: (10000, 10)\n",
      "Test set: images (10000, 32, 32, 3)\tlabels: (10000, 10)\n"
     ]
    }
   ],
   "source": [
    "print(\"Training set: images {:}\\tlabels: {:}\".format(train_images.shape, train_labels.shape ) )\n",
    "print(\"validation set: images {:}\\tlabels: {:}\".format(validation_images.shape, validation_labels.shape ) )\n",
    "print(\"Test set: images {:}\\tlabels: {:}\".format(test_images.shape, test_labels.shape ) )"
   ]
  },
  {
   "cell_type": "code",
   "execution_count": 7,
   "metadata": {},
   "outputs": [
    {
     "name": "stdout",
     "output_type": "stream",
     "text": [
      "WARNING:tensorflow:From /home/neofelia/anaconda3/lib/python3.7/site-packages/tensorflow_core/python/ops/resource_variable_ops.py:1630: calling BaseResourceVariable.__init__ (from tensorflow.python.ops.resource_variable_ops) with constraint is deprecated and will be removed in a future version.\n",
      "Instructions for updating:\n",
      "If using Keras pass *_constraint arguments to layers.\n",
      "Model: \"vgg19\"\n",
      "_________________________________________________________________\n",
      "Layer (type)                 Output Shape              Param #   \n",
      "=================================================================\n",
      "input_1 (InputLayer)         [(None, 32, 32, 3)]       0         \n",
      "_________________________________________________________________\n",
      "block1_conv1 (Conv2D)        (None, 32, 32, 64)        1792      \n",
      "_________________________________________________________________\n",
      "block1_conv2 (Conv2D)        (None, 32, 32, 64)        36928     \n",
      "_________________________________________________________________\n",
      "block1_pool (MaxPooling2D)   (None, 16, 16, 64)        0         \n",
      "_________________________________________________________________\n",
      "block2_conv1 (Conv2D)        (None, 16, 16, 128)       73856     \n",
      "_________________________________________________________________\n",
      "block2_conv2 (Conv2D)        (None, 16, 16, 128)       147584    \n",
      "_________________________________________________________________\n",
      "block2_pool (MaxPooling2D)   (None, 8, 8, 128)         0         \n",
      "_________________________________________________________________\n",
      "block3_conv1 (Conv2D)        (None, 8, 8, 256)         295168    \n",
      "_________________________________________________________________\n",
      "block3_conv2 (Conv2D)        (None, 8, 8, 256)         590080    \n",
      "_________________________________________________________________\n",
      "block3_conv3 (Conv2D)        (None, 8, 8, 256)         590080    \n",
      "_________________________________________________________________\n",
      "block3_conv4 (Conv2D)        (None, 8, 8, 256)         590080    \n",
      "_________________________________________________________________\n",
      "block3_pool (MaxPooling2D)   (None, 4, 4, 256)         0         \n",
      "_________________________________________________________________\n",
      "block4_conv1 (Conv2D)        (None, 4, 4, 512)         1180160   \n",
      "_________________________________________________________________\n",
      "block4_conv2 (Conv2D)        (None, 4, 4, 512)         2359808   \n",
      "_________________________________________________________________\n",
      "block4_conv3 (Conv2D)        (None, 4, 4, 512)         2359808   \n",
      "_________________________________________________________________\n",
      "block4_conv4 (Conv2D)        (None, 4, 4, 512)         2359808   \n",
      "_________________________________________________________________\n",
      "block4_pool (MaxPooling2D)   (None, 2, 2, 512)         0         \n",
      "_________________________________________________________________\n",
      "block5_conv1 (Conv2D)        (None, 2, 2, 512)         2359808   \n",
      "_________________________________________________________________\n",
      "block5_conv2 (Conv2D)        (None, 2, 2, 512)         2359808   \n",
      "_________________________________________________________________\n",
      "block5_conv3 (Conv2D)        (None, 2, 2, 512)         2359808   \n",
      "_________________________________________________________________\n",
      "block5_conv4 (Conv2D)        (None, 2, 2, 512)         2359808   \n",
      "_________________________________________________________________\n",
      "block5_pool (MaxPooling2D)   (None, 1, 1, 512)         0         \n",
      "=================================================================\n",
      "Total params: 20,024,384\n",
      "Trainable params: 20,024,384\n",
      "Non-trainable params: 0\n",
      "_________________________________________________________________\n"
     ]
    }
   ],
   "source": [
    "from tensorflow.keras.applications import VGG19\n",
    "\n",
    "conv_base = VGG19(weights='imagenet',\n",
    "                  include_top=False,\n",
    "                  input_shape=(32, 32, 3))\n",
    "\n",
    "conv_base.summary()"
   ]
  },
  {
   "cell_type": "markdown",
   "metadata": {},
   "source": [
    "## Features extraction"
   ]
  },
  {
   "cell_type": "code",
   "execution_count": 8,
   "metadata": {},
   "outputs": [],
   "source": [
    "def extract_features(input_data):\n",
    "    return conv_base.predict(input_data) \n",
    "\n",
    "train_features = extract_features(train_images)\n",
    "validation_features = extract_features(validation_images)\n",
    "test_features = extract_features(test_images)"
   ]
  },
  {
   "cell_type": "code",
   "execution_count": 9,
   "metadata": {},
   "outputs": [
    {
     "name": "stdout",
     "output_type": "stream",
     "text": [
      "train features: (40000, 1, 1, 512)\n",
      "validation features: (10000, 1, 1, 512)\n",
      "test features: (10000, 1, 1, 512)\n"
     ]
    }
   ],
   "source": [
    "print(\"train features:\", train_features.shape)\n",
    "print(\"validation features:\", validation_features.shape)\n",
    "print(\"test features:\", test_features.shape)"
   ]
  },
  {
   "cell_type": "code",
   "execution_count": 10,
   "metadata": {
    "colab": {
     "base_uri": "https://localhost:8080/",
     "height": 714
    },
    "colab_type": "code",
    "id": "pdgz18QPNOVr",
    "outputId": "1775b09f-be46-46c4-bf2a-2f5fc62fc327"
   },
   "outputs": [],
   "source": [
    "train_features = np.reshape(train_features, (len(train_labels) , 512))\n",
    "validation_features = np.reshape(validation_features, (len(validation_labels),512))\n",
    "test_features = np.reshape(test_features, (len(test_labels), 512))"
   ]
  },
  {
   "cell_type": "code",
   "execution_count": 11,
   "metadata": {},
   "outputs": [
    {
     "name": "stdout",
     "output_type": "stream",
     "text": [
      "train features: (40000, 512)\n",
      "validation features: (10000, 512)\n",
      "test features: (10000, 512)\n"
     ]
    }
   ],
   "source": [
    "print(\"train features:\", train_features.shape)\n",
    "print(\"validation features:\", validation_features.shape)\n",
    "print(\"test features:\", test_features.shape)"
   ]
  },
  {
   "cell_type": "code",
   "execution_count": 13,
   "metadata": {},
   "outputs": [],
   "source": [
    "model = models.Sequential()\n",
    "\n",
    "model.add(layers.Dense(512, activation='relu', input_dim= 512))\n",
    "model.add(layers.Dropout(0.5))\n",
    "\n",
    "model.add(layers.Dense(256, activation='relu'))\n",
    "model.add(layers.Dropout(0.5))\n",
    "\n",
    "model.add(layers.Dense(128, activation='relu'))\n",
    "model.add(layers.Dropout(0.5))\n",
    "\n",
    "model.add(layers.Dense(64, activation='relu'))\n",
    "model.add(layers.Dropout(0.5))\n",
    "\n",
    "\n",
    "model.add(layers.Dense(32, activation='relu'))\n",
    "model.add(layers.Dropout(0.5))\n",
    "\n",
    "model.add(layers.Dense(10, activation='softmax'))\n",
    "\n",
    "\n",
    "model.compile(optimizer=optimizers.RMSprop(lr=5e-5),\n",
    "              loss='categorical_crossentropy',\n",
    "                  metrics=['accuracy'])\n",
    "\n",
    "model.load_weights('cifar10_VGG16.h5')"
   ]
  },
  {
   "cell_type": "code",
   "execution_count": 14,
   "metadata": {
    "colab": {
     "base_uri": "https://localhost:8080/",
     "height": 68
    },
    "colab_type": "code",
    "id": "ZSr5gnDLNRo7",
    "outputId": "b0c2ffb1-5a3f-424f-86d0-f7e9fb4a656b"
   },
   "outputs": [
    {
     "name": "stdout",
     "output_type": "stream",
     "text": [
      "10000/10000 [==============================] - 1s 65us/sample - loss: 1.3550 - acc: 0.5874\n",
      "test_acc: 0.5874\n"
     ]
    },
    {
     "data": {
      "text/plain": [
       "1.3549811477661133"
      ]
     },
     "execution_count": 14,
     "metadata": {},
     "output_type": "execute_result"
    }
   ],
   "source": [
    "test_loss, test_acc = model.evaluate(test_features, test_labels)\n",
    "print('test_acc:', test_acc)\n",
    "test_loss"
   ]
  }
 ],
 "metadata": {
  "accelerator": "GPU",
  "colab": {
   "collapsed_sections": [],
   "name": "CIFAR10.ipynb",
   "provenance": []
  },
  "kernelspec": {
   "display_name": "Python 3",
   "language": "python",
   "name": "python3"
  },
  "language_info": {
   "codemirror_mode": {
    "name": "ipython",
    "version": 3
   },
   "file_extension": ".py",
   "mimetype": "text/x-python",
   "name": "python",
   "nbconvert_exporter": "python",
   "pygments_lexer": "ipython3",
   "version": "3.7.3"
  }
 },
 "nbformat": 4,
 "nbformat_minor": 1
}
