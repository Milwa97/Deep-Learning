{
 "cells": [
  {
   "cell_type": "code",
   "execution_count": 1,
   "metadata": {},
   "outputs": [],
   "source": [
    "import numpy as np\n",
    "\n",
    "import matplotlib.image as img\n",
    "import matplotlib.pyplot as plt\n",
    "%matplotlib inline"
   ]
  },
  {
   "cell_type": "markdown",
   "metadata": {},
   "source": [
    "## Arithmetical operations"
   ]
  },
  {
   "cell_type": "markdown",
   "metadata": {},
   "source": [
    "So far all the operations on tensors did not change their elements. Time to change this. \n",
    "\n",
    "`numpy` supports all arithmetic operations and many functions in form of elementwise operations. For example  for multiplication"
   ]
  },
  {
   "cell_type": "markdown",
   "metadata": {},
   "source": [
    "$$ \\forall_{ijk}\\quad  z_{ijk}=x_{ijkl} \\cdot y_{ijk}$$ "
   ]
  },
  {
   "cell_type": "markdown",
   "metadata": {},
   "source": [
    "Please note several different ways used to time the commands below. "
   ]
  },
  {
   "cell_type": "code",
   "execution_count": 2,
   "metadata": {},
   "outputs": [
    {
     "name": "stdout",
     "output_type": "stream",
     "text": [
      "CPU times: user 10 µs, sys: 1 µs, total: 11 µs\n",
      "Wall time: 15.7 µs\n"
     ]
    }
   ],
   "source": [
    "x = np.random.normal(0,1,(3,5,2))\n",
    "y = np.random.normal(0,1,(3,5,2))\n",
    "%time z = x * y "
   ]
  },
  {
   "cell_type": "markdown",
   "metadata": {},
   "source": [
    "Please note that arithmetic operations create a new array. "
   ]
  },
  {
   "cell_type": "code",
   "execution_count": 3,
   "metadata": {},
   "outputs": [
    {
     "name": "stdout",
     "output_type": "stream",
     "text": [
      "None\n"
     ]
    }
   ],
   "source": [
    "print(z.base)"
   ]
  },
  {
   "cell_type": "markdown",
   "metadata": {},
   "source": [
    "This is equivalent to the following loop but faster"
   ]
  },
  {
   "cell_type": "code",
   "execution_count": 4,
   "metadata": {},
   "outputs": [
    {
     "name": "stdout",
     "output_type": "stream",
     "text": [
      "CPU times: user 51 µs, sys: 5 µs, total: 56 µs\n",
      "Wall time: 59.8 µs\n"
     ]
    }
   ],
   "source": [
    "%%time\n",
    "zloop = np.zeros((3,5,2))\n",
    "for i in range(3):\n",
    "    for j in range(5):\n",
    "        for k in range(2):\n",
    "            z[i,j,k]=x[i,j,k] * y[i,j,k]"
   ]
  },
  {
   "cell_type": "markdown",
   "metadata": {},
   "source": [
    "Time difference in this case is not  very big, but for bigger arrays it can becomes very large:"
   ]
  },
  {
   "cell_type": "code",
   "execution_count": 5,
   "metadata": {},
   "outputs": [],
   "source": [
    "import timeit"
   ]
  },
  {
   "cell_type": "code",
   "execution_count": 6,
   "metadata": {},
   "outputs": [
    {
     "name": "stdout",
     "output_type": "stream",
     "text": [
      "Took 0.000292776001515449 \n"
     ]
    }
   ],
   "source": [
    "xb = np.random.normal(0,1,(30,50,20))\n",
    "yb = np.random.normal(0,1,xb.shape)\n",
    "start_time = timeit.default_timer()\n",
    "zb = xb * yb \n",
    "end_time = timeit.default_timer()\n",
    "elapsed_implicit = end_time-start_time\n",
    "print(\"Took %s \" % (elapsed_implicit,))"
   ]
  },
  {
   "cell_type": "code",
   "execution_count": 7,
   "metadata": {
    "lines_to_next_cell": 0
   },
   "outputs": [
    {
     "name": "stdout",
     "output_type": "stream",
     "text": [
      "Took 0.025896s which is 88.450200 times longer!\n"
     ]
    }
   ],
   "source": [
    "s = xb.shape\n",
    "start_time = timeit.default_timer()\n",
    "zbloop = np.empty_like(xb)\n",
    "for i in range(s[0]):\n",
    "    for j in range(s[1]):\n",
    "        for k in range(s[2]):\n",
    "            zbloop[i,j,k]=xb[i,j,k] * yb[i,j,k]\n",
    "end_time = timeit.default_timer()            \n",
    "elapsed_explicit = end_time-start_time\n",
    "print(\"Took %fs which is %f times longer!\" %(elapsed_explicit, elapsed_explicit/elapsed_implicit))"
   ]
  },
  {
   "cell_type": "markdown",
   "metadata": {},
   "source": [
    "As you can see the difference is of the order of  hundreds!  That is the main reason you shoudl become fluent in tensor operations."
   ]
  },
  {
   "cell_type": "markdown",
   "metadata": {},
   "source": [
    "Similarly we can apply a numpy function to every element of the tensor just by calling it with tensor argument:"
   ]
  },
  {
   "cell_type": "markdown",
   "metadata": {},
   "source": [
    "$$\\forall_{ijk}\\quad s_{ijk} = \\sin(x_{ijk})$$ "
   ]
  },
  {
   "cell_type": "code",
   "execution_count": 8,
   "metadata": {},
   "outputs": [
    {
     "name": "stdout",
     "output_type": "stream",
     "text": [
      "CPU times: user 21 µs, sys: 2 µs, total: 23 µs\n",
      "Wall time: 26.7 µs\n"
     ]
    }
   ],
   "source": [
    "%time s = np.sin(x)"
   ]
  },
  {
   "cell_type": "markdown",
   "metadata": {},
   "source": [
    "Please compare yourself the time of the execution of this operation to an explicit loop. "
   ]
  },
  {
   "cell_type": "markdown",
   "metadata": {},
   "source": [
    "You can also use a scalar argument in tensor operations with the common sense interpretation:"
   ]
  },
  {
   "cell_type": "code",
   "execution_count": 9,
   "metadata": {},
   "outputs": [],
   "source": [
    "grumpy = img.imread(\"GrumpyCat.jpg\")"
   ]
  },
  {
   "cell_type": "code",
   "execution_count": 10,
   "metadata": {},
   "outputs": [],
   "source": [
    "normalized_grumpy = grumpy/255"
   ]
  },
  {
   "cell_type": "markdown",
   "metadata": {},
   "source": [
    "## Reduction"
   ]
  },
  {
   "cell_type": "markdown",
   "metadata": {},
   "source": [
    "Another common operations are  reductions. Those are the functions that can be applied to a subset of dimensions \"reducing\" them  to a single number. Using our freshly acquired skills in array manipulations we will build an array where every column will contain 1000 numbers draw from a different distribution. "
   ]
  },
  {
   "cell_type": "code",
   "execution_count": 11,
   "metadata": {},
   "outputs": [
    {
     "data": {
      "text/plain": [
       "(1000, 3)"
      ]
     },
     "execution_count": 11,
     "metadata": {},
     "output_type": "execute_result"
    }
   ],
   "source": [
    "n = 1000\n",
    "d1 = np.random.normal(0,1, n)\n",
    "d2 = np.random.normal(1,0.5, n)\n",
    "d3 = np.random.uniform(0,1,n)\n",
    "data = np.stack((d1,d2,d3), axis=1)\n",
    "data.shape"
   ]
  },
  {
   "cell_type": "markdown",
   "metadata": {},
   "source": [
    "A common reduction operation is sum. Without any additional parameters sum sums all the element of the array"
   ]
  },
  {
   "cell_type": "code",
   "execution_count": 12,
   "metadata": {},
   "outputs": [
    {
     "data": {
      "text/plain": [
       "array([  17.06790684, 1018.90453972,  500.15107239])"
      ]
     },
     "execution_count": 12,
     "metadata": {},
     "output_type": "execute_result"
    }
   ],
   "source": [
    "np.sum(data, axis =0)"
   ]
  },
  {
   "cell_type": "markdown",
   "metadata": {},
   "source": [
    "But we can specify the dimension(s) along which the reduction operation will be applied. "
   ]
  },
  {
   "cell_type": "code",
   "execution_count": 13,
   "metadata": {},
   "outputs": [
    {
     "data": {
      "text/plain": [
       "(3,)"
      ]
     },
     "execution_count": 13,
     "metadata": {},
     "output_type": "execute_result"
    }
   ],
   "source": [
    "row_sum = np.sum(data, axis=0)\n",
    "row_sum.shape"
   ]
  },
  {
   "cell_type": "markdown",
   "metadata": {},
   "source": [
    "As we can see the dimension 1 was \"reduced\". \n",
    "\n",
    "In the same way we can calculate the mean of every column:"
   ]
  },
  {
   "cell_type": "code",
   "execution_count": 14,
   "metadata": {},
   "outputs": [
    {
     "data": {
      "text/plain": [
       "0.5120411729827586"
      ]
     },
     "execution_count": 14,
     "metadata": {},
     "output_type": "execute_result"
    }
   ],
   "source": [
    "np.mean(data)"
   ]
  },
  {
   "cell_type": "markdown",
   "metadata": {},
   "source": [
    "or standard deviation"
   ]
  },
  {
   "cell_type": "code",
   "execution_count": 15,
   "metadata": {},
   "outputs": [
    {
     "data": {
      "text/plain": [
       "array([0.71484768, 1.00476219, 0.54713162, 0.2024203 , 0.19668071,\n",
       "       0.71140926, 1.12243592, 0.45315536, 0.42529429, 0.65822051,\n",
       "       0.30859286, 0.53444929, 0.18072313, 0.37632504, 0.22768202,\n",
       "       0.49800884, 1.39082874, 0.9397719 , 0.65721049, 1.59296009,\n",
       "       0.7293198 , 0.8656129 , 0.28460597, 0.72704944, 0.50300932,\n",
       "       1.10684105, 0.70362455, 0.51848396, 0.69054703, 0.53759437,\n",
       "       0.5104986 , 0.65451589, 0.26721654, 0.64145131, 0.44691203,\n",
       "       0.76519676, 0.4103844 , 0.34680147, 0.58867122, 0.37145524,\n",
       "       0.2980492 , 1.53628522, 0.95899227, 0.42889883, 0.32215987,\n",
       "       0.88998665, 1.05787341, 0.82318016, 0.32068659, 0.87835447,\n",
       "       0.50544454, 0.49726988, 0.72117939, 0.3652643 , 0.38814531,\n",
       "       0.33650654, 0.3822809 , 0.89806354, 0.42804332, 0.17960636,\n",
       "       0.33167548, 1.02604637, 1.03494776, 0.82044649, 0.66017668,\n",
       "       0.73470978, 1.5859375 , 0.44738847, 0.73704902, 1.31049443,\n",
       "       0.14172369, 0.40304356, 0.69674348, 0.38100194, 0.24104678,\n",
       "       0.47972248, 1.22566457, 0.30336704, 0.74151494, 0.43671438,\n",
       "       0.12753717, 1.25354115, 0.22061846, 0.69001726, 0.6371111 ,\n",
       "       1.5492959 , 0.33877921, 0.60102535, 0.51656249, 0.88623077,\n",
       "       0.35791262, 0.88571181, 1.19707394, 0.59087365, 0.36645391,\n",
       "       0.73765332, 0.26535161, 0.84770458, 0.85794101, 0.7114898 ,\n",
       "       1.72192304, 0.50489979, 0.61238288, 0.25166782, 0.38021728,\n",
       "       0.41445698, 0.86052224, 0.73921907, 0.89793341, 0.84033126,\n",
       "       0.39201732, 0.94635703, 0.4499086 , 0.60334026, 1.30195873,\n",
       "       0.26792685, 1.22489358, 1.01952699, 0.29472445, 0.24033547,\n",
       "       1.17244398, 0.66904635, 0.34936569, 0.73912044, 0.64940113,\n",
       "       1.09583018, 1.03037313, 0.22542196, 0.21160914, 1.46775872,\n",
       "       0.65526035, 0.63565078, 0.56907643, 0.74650265, 0.59646519,\n",
       "       0.32323204, 0.12643627, 0.43697229, 0.32562393, 0.16610528,\n",
       "       0.64637781, 1.22163226, 0.50185733, 0.55935295, 1.02096143,\n",
       "       1.06279374, 1.01008207, 1.08302681, 0.71606686, 0.45506722,\n",
       "       0.09418188, 0.6887272 , 0.96415076, 0.5502378 , 0.86200248,\n",
       "       1.1023066 , 0.28760533, 0.23309506, 0.12691123, 0.59868682,\n",
       "       1.25552923, 0.25836167, 0.85850076, 1.43233646, 0.77864774,\n",
       "       0.27873338, 0.59790976, 0.70086807, 0.97398173, 0.85377217,\n",
       "       0.71549063, 0.26759494, 0.16046282, 0.57398494, 0.57607375,\n",
       "       0.15142978, 0.5154563 , 0.40245999, 1.14871277, 0.5768367 ,\n",
       "       0.18350684, 1.251252  , 0.27450296, 0.46244599, 1.00653627,\n",
       "       0.57835615, 0.19314804, 0.52970249, 0.03503009, 0.65563199,\n",
       "       1.12642566, 0.80500315, 0.67310353, 1.17313194, 0.216159  ,\n",
       "       0.45546032, 0.18497431, 0.51243116, 0.40011645, 0.72472689,\n",
       "       1.15832893, 0.39837652, 0.29038492, 0.11754436, 0.85027847,\n",
       "       0.32882626, 0.13140835, 0.65796635, 0.85340165, 0.52535542,\n",
       "       1.31581749, 1.00235384, 0.24839729, 0.16137869, 0.87335702,\n",
       "       0.34982234, 0.56314125, 0.69526312, 0.7401491 , 0.73193144,\n",
       "       0.60798122, 0.94087566, 0.66807135, 0.66184366, 0.4850147 ,\n",
       "       0.47598895, 1.30983754, 0.87062323, 0.28001518, 0.64314949,\n",
       "       0.50313801, 0.54059064, 1.2705803 , 0.05442895, 0.55049018,\n",
       "       0.25100111, 0.03947052, 0.8971718 , 0.57950374, 0.76860865,\n",
       "       0.72661268, 0.75705569, 0.86113792, 1.14347193, 0.90624247,\n",
       "       0.17101479, 0.81290743, 0.81863265, 0.4786207 , 0.36304323,\n",
       "       0.79654   , 0.37515422, 0.4557596 , 0.11891629, 0.1808467 ,\n",
       "       0.82236744, 0.22391463, 0.65833655, 0.21389175, 0.45550722,\n",
       "       0.79657161, 0.59401624, 0.45934007, 0.66733573, 0.04737245,\n",
       "       0.45905938, 0.61236867, 0.66615469, 0.29404502, 0.20785447,\n",
       "       0.98780082, 0.19081963, 0.56285912, 0.33858953, 0.93327786,\n",
       "       0.56566911, 1.20404303, 0.62190994, 0.89114409, 0.2252809 ,\n",
       "       0.37136436, 0.59582148, 0.61899371, 0.74970116, 0.4890853 ,\n",
       "       0.07765233, 0.55556894, 1.14637671, 0.10704813, 0.62952066,\n",
       "       1.00398567, 0.14335089, 1.47782356, 0.34919182, 0.41591757,\n",
       "       0.00251234, 0.39961627, 0.7218565 , 1.07725265, 0.7331593 ,\n",
       "       0.88926084, 1.13887623, 1.05239308, 1.51397078, 0.8809304 ,\n",
       "       0.51473174, 0.82007032, 0.47828532, 0.70664769, 0.56627409,\n",
       "       0.63056167, 0.90270924, 0.73935871, 0.2662313 , 0.20790562,\n",
       "       0.7746426 , 0.19226939, 0.60748489, 0.27618362, 1.01196735,\n",
       "       0.66329281, 0.51135832, 0.62802025, 0.14358891, 0.1698932 ,\n",
       "       0.19769183, 0.78404286, 0.44065907, 0.80096627, 0.3507285 ,\n",
       "       0.71281637, 0.2948345 , 0.37289493, 0.62923835, 1.09094049,\n",
       "       0.80544705, 0.46044553, 0.6500739 , 0.12939781, 0.7606643 ,\n",
       "       0.57388626, 0.51185712, 0.24404229, 1.76104863, 0.36718738,\n",
       "       0.69234538, 0.49427006, 0.65752595, 0.75522271, 0.19237824,\n",
       "       1.15632499, 0.78531363, 0.39316925, 0.54367489, 0.37649447,\n",
       "       0.09713832, 0.18386682, 0.92295536, 0.21031449, 0.62818314,\n",
       "       0.34438468, 0.52315971, 1.30571512, 1.0414235 , 0.95492095,\n",
       "       0.48358197, 0.71922835, 0.21289692, 0.41200301, 0.72158661,\n",
       "       0.4087586 , 1.24745315, 0.30175795, 0.45973252, 0.13835645,\n",
       "       0.79619184, 0.08068059, 0.85352963, 1.4361852 , 0.3477163 ,\n",
       "       0.65809734, 1.56007198, 1.40088257, 1.14675413, 0.24402824,\n",
       "       0.37228015, 0.06038833, 0.74980959, 0.71245944, 0.34448214,\n",
       "       0.23760862, 0.8082875 , 0.66723009, 0.99333917, 0.51883913,\n",
       "       0.15136886, 1.51210643, 0.61955838, 0.17704058, 0.45784937,\n",
       "       0.58606956, 0.23404823, 0.57821974, 0.32783097, 0.72545271,\n",
       "       0.80119614, 0.95118196, 0.39675382, 0.90750392, 0.22930008,\n",
       "       1.04396935, 0.45718553, 1.06386273, 0.68538215, 0.15254579,\n",
       "       0.35528107, 0.83218573, 0.03000869, 0.91627664, 0.59071904,\n",
       "       0.43250253, 0.50643626, 0.64824521, 0.54727155, 0.20944823,\n",
       "       0.26839315, 0.78074645, 1.72643868, 0.33976035, 0.73524889,\n",
       "       0.18364179, 1.12757917, 0.35694862, 0.87648046, 0.40180162,\n",
       "       1.12051694, 0.63638025, 0.17209563, 0.45827962, 0.6220078 ,\n",
       "       0.50326402, 0.45034689, 0.51995854, 0.6958054 , 0.49608891,\n",
       "       0.62722788, 0.51844197, 0.37613598, 0.57009058, 0.27759486,\n",
       "       0.16440838, 0.55977445, 0.68979968, 0.40375063, 0.37757577,\n",
       "       0.51857123, 0.55636528, 0.84220436, 0.603754  , 1.48714835,\n",
       "       0.55262566, 0.24895138, 0.52600458, 0.14102429, 0.42217578,\n",
       "       0.99081751, 0.78915762, 0.62741493, 1.62462261, 0.57253463,\n",
       "       0.44123234, 0.40543105, 0.65211898, 0.89812649, 0.86407204,\n",
       "       0.98382439, 0.95884174, 0.43639898, 0.35506611, 0.74759084,\n",
       "       0.55570401, 0.16921464, 0.28977386, 0.92209741, 0.17813672,\n",
       "       0.99211035, 0.39129809, 0.07441447, 0.00701017, 0.09726822,\n",
       "       0.27007773, 0.24004128, 0.4103863 , 0.47037577, 0.30476742,\n",
       "       0.2931444 , 0.76494822, 0.6920895 , 0.22052103, 1.53328067,\n",
       "       0.59829878, 0.75372631, 0.3790453 , 1.08482297, 0.95308894,\n",
       "       0.37460763, 1.05417772, 0.51990509, 0.910823  , 0.86895601,\n",
       "       0.58564441, 0.99439375, 0.20798905, 0.63017057, 0.35436404,\n",
       "       0.6913482 , 0.84361335, 0.68028371, 0.53971892, 1.06122817,\n",
       "       0.94376497, 0.88290883, 0.50324476, 0.35622428, 0.37455678,\n",
       "       0.32007993, 0.16688211, 0.67180285, 1.55924573, 1.25155409,\n",
       "       0.41840855, 1.65719169, 0.68301738, 0.16910363, 0.29985585,\n",
       "       0.52669518, 0.21342564, 0.20129268, 0.75567956, 0.58711474,\n",
       "       0.809813  , 0.33653903, 0.21344012, 0.32342239, 0.22268045,\n",
       "       0.57884504, 0.20045562, 0.14090216, 0.99434548, 0.68571326,\n",
       "       0.56679571, 0.15406663, 0.40029555, 0.74089554, 1.21648077,\n",
       "       0.49215819, 0.35539548, 0.96166988, 1.33787388, 0.4221465 ,\n",
       "       0.27293793, 0.40405841, 0.62766153, 0.38742797, 1.04559378,\n",
       "       0.30361171, 0.62046989, 0.20223653, 0.5267682 , 0.28333377,\n",
       "       0.46383563, 0.48256946, 0.38060931, 0.40330603, 0.34158316,\n",
       "       1.04155057, 0.84938425, 0.95195766, 0.50235155, 0.494925  ,\n",
       "       0.39231662, 0.12630919, 0.40055221, 0.86048263, 0.39982385,\n",
       "       0.62107501, 0.13536552, 0.17396577, 1.02438114, 1.21435028,\n",
       "       0.31018635, 0.08294926, 0.81721255, 0.55259601, 0.57720015,\n",
       "       1.00367325, 0.60219473, 1.03840302, 0.46917657, 0.77616863,\n",
       "       0.32000305, 0.79666322, 0.16894951, 0.26793465, 0.17433959,\n",
       "       0.35765   , 0.35028013, 0.42088827, 0.38425126, 0.71852254,\n",
       "       0.76910208, 0.41625528, 0.13511778, 0.81141154, 0.82225117,\n",
       "       1.51259586, 0.3573321 , 0.92519742, 0.12711267, 0.46022685,\n",
       "       1.5373756 , 0.84339869, 0.13344659, 0.62134857, 0.35473707,\n",
       "       0.35168396, 0.16051928, 0.33772401, 0.7317886 , 0.64184509,\n",
       "       0.29087419, 0.45044604, 1.13786783, 0.28574416, 0.2113761 ,\n",
       "       0.59538326, 0.92570548, 0.26649819, 0.48401223, 0.08189772,\n",
       "       0.82259709, 0.75934975, 0.48087162, 0.26931348, 0.56000881,\n",
       "       0.86087169, 1.15299386, 0.56060832, 0.17768838, 0.12285439,\n",
       "       0.62540593, 0.39519426, 0.71290314, 0.53525943, 0.56464484,\n",
       "       0.42522066, 0.52978355, 1.01164112, 0.27669552, 0.54221706,\n",
       "       0.56473963, 1.11921861, 0.53524613, 0.16037434, 0.15100975,\n",
       "       0.61641692, 0.27936512, 0.51881769, 0.94109193, 0.51892094,\n",
       "       0.99767392, 0.51925189, 0.61809489, 0.32912739, 0.31783042,\n",
       "       0.3422993 , 0.84781656, 0.12680224, 1.38737785, 0.58472056,\n",
       "       0.79721453, 0.30768464, 1.00709686, 0.4948911 , 0.65963738,\n",
       "       0.38270413, 0.58337928, 0.83559202, 1.59666014, 0.19572915,\n",
       "       0.39114166, 1.08947371, 0.36155346, 0.53344352, 0.77700104,\n",
       "       1.14136795, 0.60672136, 0.02813526, 0.25534341, 1.21775453,\n",
       "       0.26857863, 0.99459296, 0.97183283, 0.85098208, 0.65103911,\n",
       "       0.5742317 , 0.11372529, 0.67859344, 0.96282455, 0.23194914,\n",
       "       0.88025929, 0.5436696 , 0.25412524, 0.571523  , 0.72893887,\n",
       "       0.28934062, 0.05910762, 0.68315071, 0.11439606, 0.5411744 ,\n",
       "       0.48957164, 0.57288588, 0.23640192, 0.21347837, 0.31743921,\n",
       "       0.42406597, 1.03249894, 0.67204047, 0.39136871, 0.71410637,\n",
       "       0.21355071, 0.91137084, 0.317899  , 0.2379899 , 0.10312648,\n",
       "       0.33470966, 0.97350741, 0.1915411 , 0.60797115, 0.36855713,\n",
       "       0.36359658, 0.37059923, 0.42865387, 0.95261086, 1.14163321,\n",
       "       0.47011083, 0.63481634, 0.32884915, 0.52441424, 0.0995137 ,\n",
       "       0.67181127, 0.79504635, 0.88749561, 0.21840991, 0.28840475,\n",
       "       0.370709  , 0.68505456, 0.28192405, 0.26088396, 0.2600745 ,\n",
       "       0.74964785, 0.60950822, 0.57322747, 0.29737656, 0.97086552,\n",
       "       0.37126265, 0.24710147, 0.66526041, 0.44998216, 0.46062899,\n",
       "       0.65848921, 0.40450571, 0.40517854, 0.64601075, 1.12673843,\n",
       "       0.57664675, 0.57709124, 0.85909776, 0.52905848, 0.18196982,\n",
       "       1.03961818, 0.80777483, 0.53921213, 0.83083173, 0.39289225,\n",
       "       0.29454315, 0.98427612, 1.11067534, 0.73407164, 1.16586911,\n",
       "       0.72674368, 0.18869459, 1.63389562, 0.91240392, 0.37595535,\n",
       "       0.94953466, 0.45066455, 1.11862596, 0.73711962, 0.39897785,\n",
       "       0.39394059, 0.30876685, 0.1435935 , 0.16424589, 0.59846809,\n",
       "       0.79246982, 0.7648398 , 0.77035298, 0.72909161, 0.6287361 ,\n",
       "       0.51505317, 0.52326618, 0.31351545, 0.92718107, 0.50260768,\n",
       "       1.34312537, 0.36439361, 0.43250078, 0.25653084, 0.40662492,\n",
       "       0.83753877, 0.91053768, 0.67364856, 0.41163509, 1.04054417,\n",
       "       0.26187315, 0.57293987, 1.97270275, 0.26447474, 0.39190435,\n",
       "       0.73999978, 0.60834972, 0.24255682, 0.36533604, 0.58075545,\n",
       "       0.17178369, 1.41871853, 1.09265865, 0.34945073, 0.68131829,\n",
       "       1.0435691 , 0.21676908, 0.56692945, 1.64676365, 0.58541354,\n",
       "       0.38269317, 0.48615031, 0.53589279, 0.84005219, 0.65991247,\n",
       "       0.32759179, 0.15655176, 0.49263726, 0.87875102, 0.70708013,\n",
       "       0.54302364, 0.45037164, 0.81339561, 0.47778679, 0.48283467,\n",
       "       0.61258368, 0.78375595, 0.50138817, 0.40220764, 1.07689366,\n",
       "       0.26974026, 0.70642897, 0.53067366, 0.16512039, 0.6323325 ,\n",
       "       0.45774778, 0.07927954, 0.30759895, 0.35866603, 0.50338843,\n",
       "       0.48271601, 0.21852374, 0.93735312, 0.57521752, 0.59936748,\n",
       "       1.17450941, 0.13926129, 1.11756913, 0.21119482, 0.43778481,\n",
       "       0.8337885 , 0.37366226, 0.48003135, 0.82323661, 0.36234172,\n",
       "       0.46687963, 0.54511917, 0.23895587, 0.54182056, 0.36034168,\n",
       "       0.1620251 , 0.38411777, 0.37715023, 0.36262214, 0.17696975,\n",
       "       1.49797129, 0.77922938, 0.38815004, 0.296606  , 0.47565538,\n",
       "       0.9188892 , 0.24402313, 0.5242011 , 0.70867287, 0.20939003,\n",
       "       0.37822524, 1.08193546, 0.67868629, 1.49672285, 0.76699866,\n",
       "       0.43591894, 0.50060234, 1.10948696, 0.36878795, 0.21478186,\n",
       "       0.68990884, 0.45310302, 0.49123905, 0.12946947, 0.12453227,\n",
       "       0.31267054, 1.17227421, 0.36705639, 0.94673666, 0.82761738,\n",
       "       1.30867976, 0.58423333, 1.43438229, 1.5957549 , 0.61072844,\n",
       "       0.63010589, 0.18367797, 0.44635171, 0.28854649, 0.27608659,\n",
       "       0.44114147, 0.39212016, 0.66367207, 0.35541565, 0.65470009,\n",
       "       0.60604524, 0.74696223, 0.47718191, 1.24449831, 0.12219363,\n",
       "       0.49853346, 0.53357699, 0.80615886, 1.14956995, 0.29046415,\n",
       "       0.44232676, 0.95140394, 0.38273762, 0.56520876, 0.40043043,\n",
       "       1.47943013, 0.89967436, 0.85971714, 0.46431152, 1.69867848,\n",
       "       0.7071614 , 0.27134585, 0.53077946, 1.11243659, 0.61226224,\n",
       "       0.59552077, 0.63663981, 0.56323595, 0.61446705, 0.34895516,\n",
       "       0.85870823, 0.84910288, 0.09124135, 0.62119046, 0.69435741,\n",
       "       0.83073724, 0.83480749, 0.67311363, 1.01748319, 0.13224888,\n",
       "       0.70080142, 0.62413641, 0.13906222, 0.54823174, 0.44010223,\n",
       "       1.27542413, 0.68170799, 0.61517078, 0.23502541, 0.51209405,\n",
       "       0.34774709, 0.72745088, 0.34076894, 0.24050904, 0.73007301])"
      ]
     },
     "execution_count": 15,
     "metadata": {},
     "output_type": "execute_result"
    }
   ],
   "source": [
    "np.std(data, axis=1)"
   ]
  },
  {
   "cell_type": "markdown",
   "metadata": {},
   "source": [
    "We can reduce more then one dimension at the time. Below we calculate the mean value of each chanel in grumpy"
   ]
  },
  {
   "cell_type": "code",
   "execution_count": 16,
   "metadata": {},
   "outputs": [
    {
     "data": {
      "text/plain": [
       "array([117.03265727, 103.90124729, 105.09348518])"
      ]
     },
     "execution_count": 16,
     "metadata": {},
     "output_type": "execute_result"
    }
   ],
   "source": [
    "np.mean(grumpy, axis=(0,1))"
   ]
  },
  {
   "cell_type": "markdown",
   "metadata": {},
   "source": [
    "or max and min  values"
   ]
  },
  {
   "cell_type": "code",
   "execution_count": 17,
   "metadata": {},
   "outputs": [
    {
     "data": {
      "text/plain": [
       "array([0, 0, 0], dtype=uint8)"
      ]
     },
     "execution_count": 17,
     "metadata": {},
     "output_type": "execute_result"
    }
   ],
   "source": [
    "np.min(grumpy, axis=(0,1))"
   ]
  },
  {
   "cell_type": "code",
   "execution_count": 18,
   "metadata": {},
   "outputs": [
    {
     "data": {
      "text/plain": [
       "array([255, 255, 255], dtype=uint8)"
      ]
     },
     "execution_count": 18,
     "metadata": {},
     "output_type": "execute_result"
    }
   ],
   "source": [
    "np.max(grumpy, axis=(0,1))"
   ]
  },
  {
   "cell_type": "markdown",
   "metadata": {},
   "source": [
    "## Contractions -- inner product"
   ]
  },
  {
   "cell_type": "markdown",
   "metadata": {},
   "source": [
    "Another class of operations are contraction. In contraction we sum over two dimensions of a product of two arrays. The examples include the dot (scalar) product"
   ]
  },
  {
   "cell_type": "markdown",
   "metadata": {},
   "source": [
    "$$ x\\cdot y =\\sum_{i} x_{i} \\cdot y_{i}$$ "
   ]
  },
  {
   "cell_type": "markdown",
   "metadata": {},
   "source": [
    "matrix vector multiplication:"
   ]
  },
  {
   "cell_type": "markdown",
   "metadata": {},
   "source": [
    "$$ v_j =\\sum_{i} A_{ji} \\cdot w_{i} \\quad \\forall_{i}$$ "
   ]
  },
  {
   "cell_type": "markdown",
   "metadata": {},
   "source": [
    "and matrix multiplication"
   ]
  },
  {
   "cell_type": "markdown",
   "metadata": {},
   "source": [
    "$$   z_{ij}=\\sum_{k} x_{ik} \\cdot y_{kj} \\quad \\forall_{ij}$$ "
   ]
  },
  {
   "cell_type": "markdown",
   "metadata": {},
   "source": [
    "`numpy` has special operators for both operations but we can use more general `inner` and `tensordot`. \n",
    "\n",
    "`inner` takes two arrays and contracts last dimensions in each of them. That means that the sizes of those dimensions must match. \n",
    "\n",
    "When both arrays are vectors this is normal scalar product:"
   ]
  },
  {
   "cell_type": "code",
   "execution_count": 19,
   "metadata": {},
   "outputs": [
    {
     "data": {
      "text/plain": [
       "-2.064762389721889"
      ]
     },
     "execution_count": 19,
     "metadata": {},
     "output_type": "execute_result"
    }
   ],
   "source": [
    "x = np.random.normal(0,1,10)\n",
    "y = np.ones_like(x)\n",
    "np.inner(x,y)"
   ]
  },
  {
   "cell_type": "markdown",
   "metadata": {},
   "source": [
    "When first is  a matrix and other a vector this is matrix vector multiplication:"
   ]
  },
  {
   "cell_type": "code",
   "execution_count": 42,
   "metadata": {},
   "outputs": [
    {
     "data": {
      "text/plain": [
       "array([ 0.1366, -1.009 ])"
      ]
     },
     "execution_count": 42,
     "metadata": {},
     "output_type": "execute_result"
    }
   ],
   "source": [
    "m = np.asarray([[0.13,-0.17],[-1.1,0.8]])\n",
    "v = np.array([0.75, -0.23])\n",
    "np.inner(m,v)"
   ]
  },
  {
   "cell_type": "markdown",
   "metadata": {},
   "source": [
    "Can you tell what the operation below is doing? "
   ]
  },
  {
   "cell_type": "code",
   "execution_count": 53,
   "metadata": {},
   "outputs": [
    {
     "data": {
      "image/png": "[encoded data removed]",
      "text/plain": [
       "<Figure size 432x288 with 1 Axes>"
      ]
     },
     "metadata": {
      "needs_background": "light"
     },
     "output_type": "display_data"
    }
   ],
   "source": [
    "w =np.asarray([1, 1, 1])\n",
    "G = np.inner(grumpy,w)\n",
    "plt.imshow(G, cmap = 'gray');"
   ]
  },
  {
   "cell_type": "markdown",
   "metadata": {},
   "source": [
    "Similar to `inner` is `dot`.Please check out its documentatio [here](https://docs.scipy.org/doc/numpy/reference/generated/numpy.dot.html). "
   ]
  },
  {
   "cell_type": "markdown",
   "metadata": {},
   "source": [
    "Matrix multiplication requires contraction of last and first dimension. That's why it's more convenient to use `tensordot`"
   ]
  },
  {
   "cell_type": "code",
   "execution_count": 58,
   "metadata": {},
   "outputs": [
    {
     "data": {
      "text/plain": [
       "array([[ 0.1043666 , -3.07526729,  1.74149137, -1.91353187],\n",
       "       [ 5.31779303, -0.71241599, -1.05800954, -3.55139737]])"
      ]
     },
     "execution_count": 58,
     "metadata": {},
     "output_type": "execute_result"
    }
   ],
   "source": [
    "A = np.random.normal(0,1,(2,3))\n",
    "B = np.random.normal(0,2,(3,4))\n",
    "C = np.tensordot(A,B,1)\n",
    "C"
   ]
  },
  {
   "cell_type": "code",
   "execution_count": 23,
   "metadata": {},
   "outputs": [
    {
     "name": "stdout",
     "output_type": "stream",
     "text": [
      "(2, 4)\n"
     ]
    },
    {
     "data": {
      "text/plain": [
       "array([[-1.86269005, -1.24504512, -0.53803446, -0.17687151],\n",
       "       [ 0.51471527, -1.34674297,  0.21851149, -1.17416381]])"
      ]
     },
     "execution_count": 23,
     "metadata": {},
     "output_type": "execute_result"
    }
   ],
   "source": [
    "print(C.shape)\n",
    "C"
   ]
  },
  {
   "cell_type": "markdown",
   "metadata": {},
   "source": [
    "If we want to do matrix multiplication it's better to use \n",
    "`matmul` function which is described [here](https://docs.scipy.org/doc/numpy/reference/generated/numpy.matmul.html#numpy.matmul). This function can be invokde using operator `@`"
   ]
  },
  {
   "cell_type": "code",
   "execution_count": 24,
   "metadata": {},
   "outputs": [
    {
     "data": {
      "text/plain": [
       "array([[-1.86269005, -1.24504512, -0.53803446, -0.17687151],\n",
       "       [ 0.51471527, -1.34674297,  0.21851149, -1.17416381]])"
      ]
     },
     "execution_count": 24,
     "metadata": {},
     "output_type": "execute_result"
    }
   ],
   "source": [
    "A@B"
   ]
  },
  {
   "cell_type": "markdown",
   "metadata": {},
   "source": [
    "`tensordot(A,B,n)` is more general contracts last `n` dimensions of array `A` with first `n` dimensions of array `B`. "
   ]
  },
  {
   "cell_type": "code",
   "execution_count": 25,
   "metadata": {},
   "outputs": [
    {
     "name": "stdout",
     "output_type": "stream",
     "text": [
      "()\n"
     ]
    },
    {
     "data": {
      "text/plain": [
       "array(-0.04439479)"
      ]
     },
     "execution_count": 25,
     "metadata": {},
     "output_type": "execute_result"
    }
   ],
   "source": [
    "A2 = np.random.normal(0,1,(4,3))\n",
    "B2 = np.random.normal(0,2,(4,3))\n",
    "C2 = np.tensordot(A2,B2,2)\n",
    "print(C2.shape)\n",
    "C2"
   ]
  },
  {
   "cell_type": "markdown",
   "metadata": {},
   "source": [
    "In the above expression `C2` is calculated as: \n",
    "$$ C = \\sum_{ij}A_{ij} B_{ij}$$"
   ]
  },
  {
   "cell_type": "markdown",
   "metadata": {},
   "source": [
    "We can also specify which dimensions will be contracted, by providing lists of dimensions in each array:"
   ]
  },
  {
   "cell_type": "code",
   "execution_count": 26,
   "metadata": {},
   "outputs": [
    {
     "name": "stdout",
     "output_type": "stream",
     "text": [
      "()\n"
     ]
    },
    {
     "data": {
      "text/plain": [
       "array(-3.19148045)"
      ]
     },
     "execution_count": 26,
     "metadata": {},
     "output_type": "execute_result"
    }
   ],
   "source": [
    "A3 = np.random.normal(0,1,(4,3))\n",
    "B3 = np.random.normal(0,2,(3,4))\n",
    "C3 = np.tensordot(A3,B3,[[0,1], [1,0]])\n",
    "print(C3.shape)\n",
    "C3"
   ]
  },
  {
   "cell_type": "markdown",
   "metadata": {},
   "source": [
    "Which corresponds to \n",
    "$$ C = \\sum_{ij}A_{ij} B_{ji}$$\n",
    "which is more intuitive."
   ]
  },
  {
   "cell_type": "markdown",
   "metadata": {},
   "source": [
    "You have a matrix 3x4 matrix W and a set of N 4-vectors in a form of array X of shape (N,4). How to produce an array of shape (N,3) where each row is the product of matrix W and corresponding row of X ? "
   ]
  },
  {
   "cell_type": "markdown",
   "metadata": {},
   "source": [
    "## Outer product"
   ]
  },
  {
   "cell_type": "markdown",
   "metadata": {},
   "source": [
    "What happens when we request zero dimension contraction in `tensordot`? For two vectors this should correspond to\n",
    "$$ z_{ij} = x_i \\cdot y_j\\quad \\forall_{ij} $$\n",
    "Let's check this. "
   ]
  },
  {
   "cell_type": "code",
   "execution_count": 27,
   "metadata": {},
   "outputs": [
    {
     "name": "stdout",
     "output_type": "stream",
     "text": [
      "(4, 5)\n"
     ]
    },
    {
     "data": {
      "text/plain": [
       "array([[ 0,  0,  0,  0,  0],\n",
       "       [ 0,  1,  2,  3,  4],\n",
       "       [ 0,  2,  4,  6,  8],\n",
       "       [ 0,  3,  6,  9, 12]])"
      ]
     },
     "execution_count": 27,
     "metadata": {},
     "output_type": "execute_result"
    }
   ],
   "source": [
    "x = np.arange(4)\n",
    "y = np.arange(5)\n",
    "z  = np.tensordot(x,y,0)\n",
    "print(z.shape)\n",
    "z"
   ]
  },
  {
   "cell_type": "markdown",
   "metadata": {},
   "source": [
    "This operation is called outer or tensor product. We can achieve same result with function `outer`"
   ]
  },
  {
   "cell_type": "code",
   "execution_count": 28,
   "metadata": {},
   "outputs": [
    {
     "name": "stdout",
     "output_type": "stream",
     "text": [
      "(4, 5)\n"
     ]
    },
    {
     "data": {
      "text/plain": [
       "array([[ 0,  0,  0,  0,  0],\n",
       "       [ 0,  1,  2,  3,  4],\n",
       "       [ 0,  2,  4,  6,  8],\n",
       "       [ 0,  3,  6,  9, 12]])"
      ]
     },
     "execution_count": 28,
     "metadata": {},
     "output_type": "execute_result"
    }
   ],
   "source": [
    "x = np.arange(4)\n",
    "y = np.arange(5)\n",
    "z  = np.outer(x,y)\n",
    "print(z.shape)\n",
    "z"
   ]
  },
  {
   "cell_type": "markdown",
   "metadata": {},
   "source": [
    "However those two functions behave the same same only for 1-dimensional arrays. "
   ]
  },
  {
   "cell_type": "markdown",
   "metadata": {},
   "source": [
    "## \"Degenerate\" dimensions\n",
    "\n",
    "This a technical but a quite important point. It concerns dimensions with size one. While it may seem that such dimensions are spurious or \"degenerate\" they nevertheless change the dimensionality of the array and can impact the result of the operations."
   ]
  },
  {
   "cell_type": "markdown",
   "metadata": {},
   "source": [
    "Let's start by creating a vector"
   ]
  },
  {
   "cell_type": "code",
   "execution_count": 29,
   "metadata": {},
   "outputs": [
    {
     "name": "stdout",
     "output_type": "stream",
     "text": [
      "(4,)\n"
     ]
    },
    {
     "data": {
      "text/plain": [
       "array([ 1.46568362, -0.20848286,  1.69540608, -1.19607941])"
      ]
     },
     "execution_count": 29,
     "metadata": {},
     "output_type": "execute_result"
    }
   ],
   "source": [
    "vector = np.random.normal(0,1,(4,))\n",
    "print(vector.shape)\n",
    "vector"
   ]
  },
  {
   "cell_type": "markdown",
   "metadata": {},
   "source": [
    "and reshape it to one row matrix "
   ]
  },
  {
   "cell_type": "code",
   "execution_count": 30,
   "metadata": {},
   "outputs": [
    {
     "name": "stdout",
     "output_type": "stream",
     "text": [
      "(1, 4)\n"
     ]
    },
    {
     "data": {
      "text/plain": [
       "array([[ 1.46568362, -0.20848286,  1.69540608, -1.19607941]])"
      ]
     },
     "execution_count": 30,
     "metadata": {},
     "output_type": "execute_result"
    }
   ],
   "source": [
    "vector_row = np.reshape(vector,(1,4))\n",
    "print(vector_row.shape)\n",
    "vector_row"
   ]
  },
  {
   "cell_type": "markdown",
   "metadata": {},
   "source": [
    "and one column matrix:"
   ]
  },
  {
   "cell_type": "code",
   "execution_count": 31,
   "metadata": {},
   "outputs": [
    {
     "name": "stdout",
     "output_type": "stream",
     "text": [
      "(4, 1)\n"
     ]
    },
    {
     "data": {
      "text/plain": [
       "array([[ 1.46568362],\n",
       "       [-0.20848286],\n",
       "       [ 1.69540608],\n",
       "       [-1.19607941]])"
      ]
     },
     "execution_count": 31,
     "metadata": {},
     "output_type": "execute_result"
    }
   ],
   "source": [
    "vector_column = np.reshape(vector,(4,1))\n",
    "print(vector_column.shape)\n",
    "vector_column"
   ]
  },
  {
   "cell_type": "markdown",
   "metadata": {},
   "source": [
    "Now make some experiments:"
   ]
  },
  {
   "cell_type": "code",
   "execution_count": 32,
   "metadata": {},
   "outputs": [
    {
     "data": {
      "text/plain": [
       "6.496701302643633"
      ]
     },
     "execution_count": 32,
     "metadata": {},
     "output_type": "execute_result"
    }
   ],
   "source": [
    "np.inner(vector, vector)"
   ]
  },
  {
   "cell_type": "code",
   "execution_count": 33,
   "metadata": {},
   "outputs": [
    {
     "data": {
      "text/plain": [
       "array([[6.4967013]])"
      ]
     },
     "execution_count": 33,
     "metadata": {},
     "output_type": "execute_result"
    }
   ],
   "source": [
    "np.inner(vector_row, vector_row)"
   ]
  },
  {
   "cell_type": "code",
   "execution_count": 34,
   "metadata": {},
   "outputs": [
    {
     "data": {
      "text/plain": [
       "array([[ 2.14822847, -0.30556991,  2.48492892, -1.75307399],\n",
       "       [-0.30556991,  0.0434651 , -0.35346311,  0.24936205],\n",
       "       [ 2.48492892, -0.35346311,  2.87440179, -2.0278403 ],\n",
       "       [-1.75307399,  0.24936205, -2.0278403 ,  1.43060595]])"
      ]
     },
     "execution_count": 34,
     "metadata": {},
     "output_type": "execute_result"
    }
   ],
   "source": [
    "np.inner(vector_column, vector_column)"
   ]
  },
  {
   "cell_type": "markdown",
   "metadata": {},
   "source": [
    "This actually the outer product:"
   ]
  },
  {
   "cell_type": "code",
   "execution_count": 35,
   "metadata": {},
   "outputs": [
    {
     "data": {
      "text/plain": [
       "array([[ 2.14822847, -0.30556991,  2.48492892, -1.75307399],\n",
       "       [-0.30556991,  0.0434651 , -0.35346311,  0.24936205],\n",
       "       [ 2.48492892, -0.35346311,  2.87440179, -2.0278403 ],\n",
       "       [-1.75307399,  0.24936205, -2.0278403 ,  1.43060595]])"
      ]
     },
     "execution_count": 35,
     "metadata": {},
     "output_type": "execute_result"
    }
   ],
   "source": [
    "np.outer(vector, vector)"
   ]
  },
  {
   "cell_type": "markdown",
   "metadata": {},
   "source": [
    "The only two other combinations that will match are: "
   ]
  },
  {
   "cell_type": "code",
   "execution_count": 36,
   "metadata": {},
   "outputs": [
    {
     "data": {
      "text/plain": [
       "array([6.4967013])"
      ]
     },
     "execution_count": 36,
     "metadata": {},
     "output_type": "execute_result"
    }
   ],
   "source": [
    "np.inner(vector, vector_row)"
   ]
  },
  {
   "cell_type": "code",
   "execution_count": 37,
   "metadata": {},
   "outputs": [
    {
     "data": {
      "text/plain": [
       "array([6.4967013])"
      ]
     },
     "execution_count": 37,
     "metadata": {},
     "output_type": "execute_result"
    }
   ],
   "source": [
    "np.inner(vector_row, vector)"
   ]
  },
  {
   "cell_type": "markdown",
   "metadata": {},
   "source": [
    "Please explain the results of all the above operations. Write down using indices what each operation actually does. "
   ]
  }
 ],
 "metadata": {
  "kernelspec": {
   "display_name": "Python 3",
   "language": "python",
   "name": "python3"
  },
  "language_info": {
   "codemirror_mode": {
    "name": "ipython",
    "version": 3
   },
   "file_extension": ".py",
   "mimetype": "text/x-python",
   "name": "python",
   "nbconvert_exporter": "python",
   "pygments_lexer": "ipython3",
   "version": "3.7.3"
  }
 },
 "nbformat": 4,
 "nbformat_minor": 4
}
