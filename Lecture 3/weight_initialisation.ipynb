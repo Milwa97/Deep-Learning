{
 "cells": [
  {
   "cell_type": "code",
   "execution_count": 1,
   "metadata": {
    "slideshow": {
     "slide_type": "skip"
    }
   },
   "outputs": [],
   "source": [
    "import torch\n",
    "import torchvision\n",
    "import matplotlib.pyplot as plt\n",
    "import numpy as np\n",
    "from torch import nn\n",
    "%matplotlib inline"
   ]
  },
  {
   "cell_type": "markdown",
   "metadata": {
    "slideshow": {
     "slide_type": "slide"
    }
   },
   "source": [
    "## MNIST"
   ]
  },
  {
   "cell_type": "code",
   "execution_count": 2,
   "metadata": {
    "slideshow": {
     "slide_type": "skip"
    }
   },
   "outputs": [],
   "source": [
    "dl_train = torch.utils.data.DataLoader(\n",
    "    torchvision.datasets.MNIST('./data/mnist', train=True, download=False))\n",
    "\n",
    "dl_test  = torch.utils.data.DataLoader(\n",
    "    torchvision.datasets.MNIST('./data/mnist', train=False, download=False))"
   ]
  },
  {
   "cell_type": "code",
   "execution_count": 3,
   "metadata": {
    "slideshow": {
     "slide_type": "skip"
    }
   },
   "outputs": [],
   "source": [
    "train_data   = dl_train.dataset.data.to(dtype=torch.float32)\n",
    "train_labels = dl_train.dataset.targets"
   ]
  },
  {
   "cell_type": "code",
   "execution_count": 4,
   "metadata": {
    "slideshow": {
     "slide_type": "slide"
    }
   },
   "outputs": [
    {
     "data": {
      "image/png": "[encoded data removed]",
      "text/plain": [
       "<Figure size 2304x288 with 8 Axes>"
      ]
     },
     "metadata": {
      "needs_background": "light"
     },
     "output_type": "display_data"
    }
   ],
   "source": [
    "fig_mnist, ax = plt.subplots(1,8, figsize=(8*4,4))\n",
    "for i in range(8):\n",
    "    ax[i].imshow(train_data[i].numpy(), cmap='Greys');"
   ]
  },
  {
   "cell_type": "code",
   "execution_count": 5,
   "metadata": {},
   "outputs": [
    {
     "data": {
      "text/plain": [
       "tensor([5, 0, 4, 1, 9, 2, 1, 3])"
      ]
     },
     "execution_count": 5,
     "metadata": {},
     "output_type": "execute_result"
    }
   ],
   "source": [
    "train_labels[0:8]"
   ]
  },
  {
   "cell_type": "code",
   "execution_count": 6,
   "metadata": {
    "slideshow": {
     "slide_type": "slide"
    }
   },
   "outputs": [],
   "source": [
    "train_dataset = torch.utils.data.TensorDataset( \n",
    "    (train_data/256.0).view(-1,28*28), \n",
    "    train_labels)"
   ]
  },
  {
   "cell_type": "code",
   "execution_count": 7,
   "metadata": {
    "slideshow": {
     "slide_type": "fragment"
    }
   },
   "outputs": [],
   "source": [
    "train_loader = torch.utils.data.DataLoader(train_dataset, \n",
    "                                           batch_size=100, \n",
    "                                           shuffle=True)"
   ]
  },
  {
   "cell_type": "code",
   "execution_count": 8,
   "metadata": {
    "slideshow": {
     "slide_type": "skip"
    }
   },
   "outputs": [],
   "source": [
    "test_data   = dl_test.dataset.data.to(dtype=torch.float32)\n",
    "test_labels = dl_test.dataset.targets\n",
    "test_dataset = torch.utils.data.TensorDataset(\n",
    "    (test_data/256.0).view(-1,28*28), test_labels)"
   ]
  },
  {
   "cell_type": "code",
   "execution_count": 9,
   "metadata": {
    "slideshow": {
     "slide_type": "slide"
    }
   },
   "outputs": [],
   "source": [
    "model = torch.nn.Sequential(\n",
    "    nn.Linear(28*28,512), nn.ReLU(),\n",
    "    nn.Linear(512,256),   nn.ReLU(),\n",
    "    nn.Linear(256,128),   nn.ReLU(),\n",
    "    nn.Linear(128,64),    nn.ReLU(),\n",
    "    nn.Linear(64,10)\n",
    ")\n"
   ]
  },
  {
   "cell_type": "markdown",
   "metadata": {
    "slideshow": {
     "slide_type": "slide"
    }
   },
   "source": [
    "## Weight initialisation"
   ]
  },
  {
   "cell_type": "code",
   "execution_count": 10,
   "metadata": {
    "slideshow": {
     "slide_type": "slide"
    }
   },
   "outputs": [],
   "source": [
    "def init_layer_uniform(sigma):\n",
    "    def init(layer): \n",
    "        if isinstance(layer,torch.nn.modules.linear.Linear):\n",
    "            torch.nn.init.uniform_(layer.weight,-sigma,sigma)\n",
    "            if layer.bias is not None:\n",
    "                torch.nn.init.zeros_(layer.bias)\n",
    "    return init  "
   ]
  },
  {
   "cell_type": "code",
   "execution_count": 11,
   "metadata": {
    "slideshow": {
     "slide_type": "slide"
    }
   },
   "outputs": [
    {
     "data": {
      "text/plain": [
       "Sequential(\n",
       "  (0): Linear(in_features=784, out_features=512, bias=True)\n",
       "  (1): ReLU()\n",
       "  (2): Linear(in_features=512, out_features=256, bias=True)\n",
       "  (3): ReLU()\n",
       "  (4): Linear(in_features=256, out_features=128, bias=True)\n",
       "  (5): ReLU()\n",
       "  (6): Linear(in_features=128, out_features=64, bias=True)\n",
       "  (7): ReLU()\n",
       "  (8): Linear(in_features=64, out_features=10, bias=True)\n",
       ")"
      ]
     },
     "execution_count": 11,
     "metadata": {},
     "output_type": "execute_result"
    }
   ],
   "source": [
    "model.apply(init_layer_uniform(0.01))"
   ]
  },
  {
   "cell_type": "code",
   "execution_count": 12,
   "metadata": {
    "slideshow": {
     "slide_type": "slide"
    }
   },
   "outputs": [
    {
     "data": {
      "text/plain": [
       "tensor(0.0942)"
      ]
     },
     "execution_count": 12,
     "metadata": {},
     "output_type": "execute_result"
    }
   ],
   "source": [
    "torch.var(train_dataset[:][0])"
   ]
  },
  {
   "cell_type": "code",
   "execution_count": 13,
   "metadata": {},
   "outputs": [
    {
     "data": {
      "text/plain": [
       "tensor(2.3762e-13, grad_fn=<VarBackward0>)"
      ]
     },
     "execution_count": 13,
     "metadata": {},
     "output_type": "execute_result"
    }
   ],
   "source": [
    "mnist_out = model(train_dataset[:][0])\n",
    "torch.var(mnist_out)"
   ]
  },
  {
   "cell_type": "code",
   "execution_count": 14,
   "metadata": {
    "slideshow": {
     "slide_type": "slide"
    }
   },
   "outputs": [],
   "source": [
    "optim = torch.optim.SGD(model.parameters(), lr=0.01, momentum=0.6)"
   ]
  },
  {
   "cell_type": "code",
   "execution_count": 15,
   "metadata": {},
   "outputs": [],
   "source": [
    "loss_f = nn.CrossEntropyLoss()"
   ]
  },
  {
   "cell_type": "code",
   "execution_count": 16,
   "metadata": {
    "slideshow": {
     "slide_type": "skip"
    }
   },
   "outputs": [],
   "source": [
    "errors = []\n",
    "batches = 0\n",
    "epochs = 0"
   ]
  },
  {
   "cell_type": "code",
   "execution_count": 17,
   "metadata": {
    "slideshow": {
     "slide_type": "slide"
    }
   },
   "outputs": [
    {
     "name": "stdout",
     "output_type": "stream",
     "text": [
      "tensor(2.3019, grad_fn=<NllLossBackward>)\n",
      "CPU times: user 2min 24s, sys: 48.5 s, total: 3min 13s\n",
      "Wall time: 1min 5s\n"
     ]
    }
   ],
   "source": [
    "%%time\n",
    "for e in range(10):\n",
    "    for d in train_loader:        \n",
    "        optim.zero_grad()\n",
    "        features, labels = d\n",
    "        pred = model(features)\n",
    "        loss = loss_f(pred, labels)\n",
    "        errors.append(loss.item())\n",
    "        loss.backward()\n",
    "        optim.step()\n",
    "        batches += 1\n",
    "    epochs += 1   \n",
    "print(loss)        "
   ]
  },
  {
   "cell_type": "code",
   "execution_count": 18,
   "metadata": {
    "slideshow": {
     "slide_type": "slide"
    }
   },
   "outputs": [
    {
     "data": {
      "image/png": "[encoded data removed]",
      "text/plain": [
       "<Figure size 432x288 with 1 Axes>"
      ]
     },
     "metadata": {
      "needs_background": "light"
     },
     "output_type": "display_data"
    }
   ],
   "source": [
    "plt.plot(np.linspace(0,epochs, batches),errors);"
   ]
  },
  {
   "cell_type": "code",
   "execution_count": 19,
   "metadata": {
    "slideshow": {
     "slide_type": "slide"
    }
   },
   "outputs": [
    {
     "data": {
      "text/plain": [
       "tensor(0.1124)"
      ]
     },
     "execution_count": 19,
     "metadata": {},
     "output_type": "execute_result"
    }
   ],
   "source": [
    "with torch.no_grad():\n",
    "    pred = torch.softmax(model(train_dataset[:][0]),1)\n",
    "    ac = torch.sum(torch.argmax(pred,1)==train_labels).to(dtype=torch.float32)/len(train_dataset)\n",
    "ac  "
   ]
  },
  {
   "cell_type": "code",
   "execution_count": 20,
   "metadata": {},
   "outputs": [
    {
     "data": {
      "text/plain": [
       "tensor(0.1135)"
      ]
     },
     "execution_count": 20,
     "metadata": {},
     "output_type": "execute_result"
    }
   ],
   "source": [
    "with torch.no_grad():\n",
    "    pred = torch.softmax(model(test_dataset[:][0]),1)\n",
    "    ac = torch.sum(torch.argmax(pred,1)==test_labels).to(dtype=torch.float32)/len(test_dataset)\n",
    "ac    "
   ]
  },
  {
   "cell_type": "code",
   "execution_count": 21,
   "metadata": {
    "slideshow": {
     "slide_type": "-"
    }
   },
   "outputs": [
    {
     "data": {
      "text/plain": [
       "tensor(0.0942)"
      ]
     },
     "execution_count": 21,
     "metadata": {},
     "output_type": "execute_result"
    }
   ],
   "source": [
    "torch.var(train_dataset[:][0])"
   ]
  },
  {
   "cell_type": "code",
   "execution_count": 22,
   "metadata": {},
   "outputs": [
    {
     "data": {
      "text/plain": [
       "tensor(0.0027, grad_fn=<VarBackward0>)"
      ]
     },
     "execution_count": 22,
     "metadata": {},
     "output_type": "execute_result"
    }
   ],
   "source": [
    "mnist_out = model(train_dataset[:][0])\n",
    "torch.var(mnist_out)"
   ]
  },
  {
   "cell_type": "markdown",
   "metadata": {
    "slideshow": {
     "slide_type": "slide"
    }
   },
   "source": [
    "$$x^{l+1}_i = f(y^{l}_i), \n",
    "\\qquad y^{l}_i =\\sum_{j=1}^{n_l} w^{l}_{ij}x^{l}_j$$"
   ]
  },
  {
   "cell_type": "markdown",
   "metadata": {},
   "source": [
    "$$w^l_{ij} \\sim \\text{i.i.d}\\qquad E[w]=0$$"
   ]
  },
  {
   "cell_type": "markdown",
   "metadata": {
    "slideshow": {
     "slide_type": "slide"
    }
   },
   "source": [
    "$$E[y^{l}_i] = \\sum_{j=1}^{n_l} E[w^{l}_{ij}x^{l}_j] = \n",
    "\\sum_{j=1}^{n_l} E[w^{l}_{ij}]E[x^{l}_j]=0$$"
   ]
  },
  {
   "cell_type": "markdown",
   "metadata": {
    "slideshow": {
     "slide_type": "fragment"
    }
   },
   "source": [
    "$$Var[y^{l}_i ]= E[(y^{l}_i-E[y^{l}_i ])^2] = E[(y^{l}_i)^2]$$ "
   ]
  },
  {
   "cell_type": "markdown",
   "metadata": {
    "slideshow": {
     "slide_type": "slide"
    }
   },
   "source": [
    "$$Var[y^{l}_i] = \n",
    "E\\left[\\left(\n",
    "\\sum_{j=1}^{n_l} w^{l}_{ij}x^{l}_j\n",
    "\\right)^2\\right]\n",
    "$$"
   ]
  },
  {
   "cell_type": "markdown",
   "metadata": {
    "slideshow": {
     "slide_type": "fragment"
    }
   },
   "source": [
    "$$Var[y^{l}_i] = \n",
    "E\\left[\\left(\n",
    "\\sum_{j=1}^{n_l} w^{l}_{ij}x^{l}_j\n",
    "\\right)\n",
    "\\left(\n",
    "\\sum_{k=1}^{n_l} w^{l}_{ik}x^{l}_k\n",
    "\\right)\n",
    "\\right]\n",
    "$$"
   ]
  },
  {
   "cell_type": "markdown",
   "metadata": {
    "slideshow": {
     "slide_type": "fragment"
    }
   },
   "source": [
    "$$Var[y^{l}_i] = \n",
    "E\\left[\n",
    "\\sum_{j,k=1}^{n_l} w^{l}_{ij}x^{l}_j\n",
    " w^{l}_{ik}x^{l}_k\n",
    "\\right]= \n",
    "\\sum_{j,k=1}^{n_l} E\\left[\n",
    " w^{l}_{ij}x^{l}_j\n",
    " w^{l}_{ik}x^{l}_k\n",
    "\\right]\n",
    "$$"
   ]
  },
  {
   "cell_type": "markdown",
   "metadata": {
    "slideshow": {
     "slide_type": "slide"
    }
   },
   "source": [
    "$$Var[y^{l}_i] = \n",
    "\\sum_{j,k=1}^{n_l} \n",
    "E\\left[w^{l}_{ij} w^{l}_{ik}\\right]\n",
    "E\\left[\n",
    "x^{l}_k x^{l}_j\n",
    "\\right]\n",
    "$$"
   ]
  },
  {
   "cell_type": "markdown",
   "metadata": {},
   "source": [
    "$$E\\left[w^{l}_{ij} w^{l}_{ik}\\right]=\\delta_{jk}E[(w^l_{ij})^2]= \\delta_{jk} Var [w^l]$$"
   ]
  },
  {
   "cell_type": "markdown",
   "metadata": {
    "slideshow": {
     "slide_type": "fragment"
    }
   },
   "source": [
    "$$Var[y^{l}_i] = \n",
    "\\sum_{j,k=1}^{n_l} \n",
    "\\delta_{jk}Var [w^l]\n",
    "E\\left[\n",
    "x^{l}_k x^{l}_j\n",
    "\\right] = \n",
    "\\sum_{j}^{n_l} \n",
    "Var [w^l]\n",
    "E\\left[\n",
    "(x^{l}_j)^2\n",
    "\\right] = \n",
    "n_l Var [w^{l}]E[(x^l)^2]\n",
    "$$"
   ]
  },
  {
   "cell_type": "markdown",
   "metadata": {
    "slideshow": {
     "slide_type": "slide"
    }
   },
   "source": [
    "$$\\newcommand{\\relu}{\\operatorname{relu}}$$\n",
    "$$x^l = \\relu(y^{l-1})=\\max(0,y^{l-1}),\\qquad P(y^{l-1})=P(-y^{l-1})$$"
   ]
  },
  {
   "cell_type": "markdown",
   "metadata": {
    "slideshow": {
     "slide_type": "fragment"
    }
   },
   "source": [
    "$$E[(x^l)^2]=\\int\\limits_0^\\infty\\!\\!\\text{d}y^{l-1} \\,\\max(0,y^{l-1})=\\int\\limits_0^\\infty\\!\\!\\text{d}y^{l-1}P (y^{l-1})\\,(y^l)^2=\n",
    "\\frac{1}{2}\\int\\limits_{-\\infty}^\\infty\\!\\!\\text{d}y^{l-1} P(y)\\,(y^{l-1})^2=\\frac{1}{2}Var[y^{l-1}]$$"
   ]
  },
  {
   "cell_type": "markdown",
   "metadata": {
    "slideshow": {
     "slide_type": "slide"
    }
   },
   "source": [
    "$$Var[y^{l}_i] = \n",
    "n_l Var[w^{l}]E[(x^l)^2]=\\frac{1}{2}n_l Var[w^l]Var[y^{l-1}]\n",
    "$$"
   ]
  },
  {
   "cell_type": "markdown",
   "metadata": {
    "slideshow": {
     "slide_type": "fragment"
    }
   },
   "source": [
    "$$Var[y^L]=Var[y^1]\\left(\\prod_2^L\\frac{1}{2} n_l Var[w^{l}]\\right)$$"
   ]
  },
  {
   "cell_type": "markdown",
   "metadata": {},
   "source": [
    "$$\\left(\\prod_2^L\\frac{1}{2} n_l Var[w^{l}]\\right) = 1$$"
   ]
  },
  {
   "cell_type": "markdown",
   "metadata": {},
   "source": [
    "$$Var[w^{l}] = \\frac{2}{n_l}$$"
   ]
  },
  {
   "cell_type": "markdown",
   "metadata": {
    "slideshow": {
     "slide_type": "fragment"
    }
   },
   "source": [
    "$$std(w_l)=\\sqrt{\\frac{2}{n_l}}$$"
   ]
  },
  {
   "cell_type": "markdown",
   "metadata": {
    "slideshow": {
     "slide_type": "slide"
    }
   },
   "source": [
    "### Uniform distribution"
   ]
  },
  {
   "cell_type": "markdown",
   "metadata": {
    "slideshow": {
     "slide_type": "slide"
    }
   },
   "source": [
    "$$w\\in (-\\sigma, \\sigma),\\quad P(w)=\\frac{1}{2\\sigma}$$"
   ]
  },
  {
   "cell_type": "markdown",
   "metadata": {
    "slideshow": {
     "slide_type": "fragment"
    }
   },
   "source": [
    "$$Var(w)=\\frac{1}{2\\sigma}\\int\\limits_{-\\sigma}^\\sigma w^2 \n",
    "=\\frac{1}{2\\sigma}\\frac{1}{3} 2 \\sigma^3 =\\frac{1}{3}\\sigma^2\n",
    "$$"
   ]
  },
  {
   "cell_type": "markdown",
   "metadata": {
    "slideshow": {
     "slide_type": "fragment"
    }
   },
   "source": [
    "$$\\sigma = \\sqrt{3}\\;  std(w)=\\sqrt{\\frac{6}{n_l}}$$"
   ]
  },
  {
   "cell_type": "code",
   "execution_count": 23,
   "metadata": {
    "slideshow": {
     "slide_type": "slide"
    }
   },
   "outputs": [],
   "source": [
    "def init_layer_norm_gauss():\n",
    "    def init(layer): \n",
    "        if isinstance(layer,torch.nn.modules.linear.Linear):\n",
    "            fan_in = layer.weight.size(1)\n",
    "            sigma  = np.sqrt(2/fan_in)    \n",
    "            torch.nn.init.normal_(layer.weight,0,sigma)\n",
    "            if layer.bias is not None:\n",
    "                torch.nn.init.zeros_(layer.bias)\n",
    "    return init  "
   ]
  },
  {
   "cell_type": "code",
   "execution_count": 24,
   "metadata": {
    "slideshow": {
     "slide_type": "slide"
    }
   },
   "outputs": [
    {
     "data": {
      "text/plain": [
       "Sequential(\n",
       "  (0): Linear(in_features=784, out_features=512, bias=True)\n",
       "  (1): ReLU()\n",
       "  (2): Linear(in_features=512, out_features=256, bias=True)\n",
       "  (3): ReLU()\n",
       "  (4): Linear(in_features=256, out_features=128, bias=True)\n",
       "  (5): ReLU()\n",
       "  (6): Linear(in_features=128, out_features=64, bias=True)\n",
       "  (7): ReLU()\n",
       "  (8): Linear(in_features=64, out_features=10, bias=True)\n",
       ")"
      ]
     },
     "execution_count": 24,
     "metadata": {},
     "output_type": "execute_result"
    }
   ],
   "source": [
    "model.apply(init_layer_norm_gauss())"
   ]
  },
  {
   "cell_type": "code",
   "execution_count": 25,
   "metadata": {
    "slideshow": {
     "slide_type": "slide"
    }
   },
   "outputs": [
    {
     "data": {
      "text/plain": [
       "tensor(0.0824)"
      ]
     },
     "execution_count": 25,
     "metadata": {},
     "output_type": "execute_result"
    }
   ],
   "source": [
    "torch.var(train_dataset[:][0]*train_dataset[:][0])"
   ]
  },
  {
   "cell_type": "code",
   "execution_count": 26,
   "metadata": {},
   "outputs": [
    {
     "data": {
      "text/plain": [
       "tensor(0.2576, grad_fn=<VarBackward0>)"
      ]
     },
     "execution_count": 26,
     "metadata": {},
     "output_type": "execute_result"
    }
   ],
   "source": [
    "mnist_out = model(train_dataset[:][0])\n",
    "torch.var(mnist_out)"
   ]
  },
  {
   "cell_type": "code",
   "execution_count": 27,
   "metadata": {
    "slideshow": {
     "slide_type": "slide"
    }
   },
   "outputs": [],
   "source": [
    "def init_layer_norm_uniform():\n",
    "    def init(layer): \n",
    "        if isinstance(layer,torch.nn.modules.linear.Linear):\n",
    "            fan_in = layer.weight.size(1)\n",
    "            sigma  = np.sqrt(6/fan_in)    \n",
    "            torch.nn.init.uniform_(layer.weight,-sigma,sigma)\n",
    "            if layer.bias is not None:\n",
    "                torch.nn.init.zeros_(layer.bias)\n",
    "    return init  "
   ]
  },
  {
   "cell_type": "code",
   "execution_count": 28,
   "metadata": {
    "slideshow": {
     "slide_type": "slide"
    }
   },
   "outputs": [
    {
     "data": {
      "text/plain": [
       "Sequential(\n",
       "  (0): Linear(in_features=784, out_features=512, bias=True)\n",
       "  (1): ReLU()\n",
       "  (2): Linear(in_features=512, out_features=256, bias=True)\n",
       "  (3): ReLU()\n",
       "  (4): Linear(in_features=256, out_features=128, bias=True)\n",
       "  (5): ReLU()\n",
       "  (6): Linear(in_features=128, out_features=64, bias=True)\n",
       "  (7): ReLU()\n",
       "  (8): Linear(in_features=64, out_features=10, bias=True)\n",
       ")"
      ]
     },
     "execution_count": 28,
     "metadata": {},
     "output_type": "execute_result"
    }
   ],
   "source": [
    "model.apply(init_layer_norm_gauss())"
   ]
  },
  {
   "cell_type": "code",
   "execution_count": 29,
   "metadata": {},
   "outputs": [
    {
     "data": {
      "text/plain": [
       "tensor(0.0824)"
      ]
     },
     "execution_count": 29,
     "metadata": {},
     "output_type": "execute_result"
    }
   ],
   "source": [
    "torch.var(train_dataset[:][0]*train_dataset[:][0])"
   ]
  },
  {
   "cell_type": "code",
   "execution_count": 30,
   "metadata": {},
   "outputs": [
    {
     "data": {
      "text/plain": [
       "tensor(0.1721, grad_fn=<VarBackward0>)"
      ]
     },
     "execution_count": 30,
     "metadata": {},
     "output_type": "execute_result"
    }
   ],
   "source": [
    "mnist_out = model(train_dataset[:][0])\n",
    "torch.var(mnist_out)"
   ]
  }
 ],
 "metadata": {
  "jupytext": {
   "text_representation": {
    "extension": ".Rmd",
    "format_name": "rmarkdown",
    "format_version": "1.1",
    "jupytext_version": "1.2.4"
   }
  },
  "kernelspec": {
   "display_name": "Python 3",
   "language": "python",
   "name": "python3"
  },
  "language_info": {
   "codemirror_mode": {
    "name": "ipython",
    "version": 3
   },
   "file_extension": ".py",
   "mimetype": "text/x-python",
   "name": "python",
   "nbconvert_exporter": "python",
   "pygments_lexer": "ipython3",
   "version": "3.7.3"
  }
 },
 "nbformat": 4,
 "nbformat_minor": 4
}
