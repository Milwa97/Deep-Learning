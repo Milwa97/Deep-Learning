{
 "cells": [
  {
   "cell_type": "code",
   "execution_count": 1,
   "metadata": {
    "slideshow": {
     "slide_type": "skip"
    }
   },
   "outputs": [],
   "source": [
    "import torch\n",
    "import torchvision\n",
    "from torch import nn\n",
    "import matplotlib.pyplot as plt\n",
    "import numpy as np\n",
    "%matplotlib inline"
   ]
  },
  {
   "cell_type": "code",
   "execution_count": 2,
   "metadata": {
    "slideshow": {
     "slide_type": "skip"
    }
   },
   "outputs": [],
   "source": [
    "from torch._utils import _accumulate\n",
    "def random_split(dataset, lengths):\n",
    "    r\"\"\"\n",
    "    Randomly split a dataset into non-overlapping new datasets of given lengths.\n",
    "\n",
    "    Arguments:\n",
    "        dataset (Dataset): Dataset to be split\n",
    "        lengths (sequence): lengths of splits to be produced\n",
    "    \"\"\"\n",
    "    if sum(lengths) != len(dataset):\n",
    "        raise ValueError(\"Sum of input lengths does not equal the length of the input dataset!\")\n",
    "\n",
    "    indices = torch.randperm(sum(lengths))\n",
    "    return [torch.utils.data.Subset(dataset, indices[offset - length:offset]) for offset, length in zip(_accumulate(lengths), lengths)]"
   ]
  },
  {
   "cell_type": "markdown",
   "metadata": {
    "slideshow": {
     "slide_type": "slide"
    }
   },
   "source": [
    "## FashionMNIST"
   ]
  },
  {
   "cell_type": "code",
   "execution_count": 3,
   "metadata": {
    "slideshow": {
     "slide_type": "slide"
    }
   },
   "outputs": [
    {
     "name": "stderr",
     "output_type": "stream",
     "text": [
      "\r",
      "0it [00:00, ?it/s]"
     ]
    },
    {
     "name": "stdout",
     "output_type": "stream",
     "text": [
      "Downloading http://fashion-mnist.s3-website.eu-central-1.amazonaws.com/train-images-idx3-ubyte.gz to ./data/f_mnist/FashionMNIST/raw/train-images-idx3-ubyte.gz\n"
     ]
    },
    {
     "name": "stderr",
     "output_type": "stream",
     "text": [
      "100%|█████████▉| 26419200/26421880 [10:22<00:00, 111327.07it/s]"
     ]
    },
    {
     "name": "stdout",
     "output_type": "stream",
     "text": [
      "Extracting ./data/f_mnist/FashionMNIST/raw/train-images-idx3-ubyte.gz to ./data/f_mnist/FashionMNIST/raw\n"
     ]
    },
    {
     "name": "stderr",
     "output_type": "stream",
     "text": [
      "\n",
      "0it [00:00, ?it/s]\u001b[A"
     ]
    },
    {
     "name": "stdout",
     "output_type": "stream",
     "text": [
      "Downloading http://fashion-mnist.s3-website.eu-central-1.amazonaws.com/train-labels-idx1-ubyte.gz to ./data/f_mnist/FashionMNIST/raw/train-labels-idx1-ubyte.gz\n"
     ]
    },
    {
     "name": "stderr",
     "output_type": "stream",
     "text": [
      "\n",
      "  0%|          | 0/29515 [00:05<?, ?it/s]\u001b[A\n",
      " 56%|█████▌    | 16384/29515 [00:05<00:00, 75373.20it/s]\u001b[A\n",
      "32768it [00:05, 88836.45it/s]                           \u001b[A\n",
      "0it [00:00, ?it/s]\u001b[A"
     ]
    },
    {
     "name": "stdout",
     "output_type": "stream",
     "text": [
      "Extracting ./data/f_mnist/FashionMNIST/raw/train-labels-idx1-ubyte.gz to ./data/f_mnist/FashionMNIST/raw\n",
      "Downloading http://fashion-mnist.s3-website.eu-central-1.amazonaws.com/t10k-images-idx3-ubyte.gz to ./data/f_mnist/FashionMNIST/raw/t10k-images-idx3-ubyte.gz\n"
     ]
    },
    {
     "name": "stderr",
     "output_type": "stream",
     "text": [
      "\n",
      "  0%|          | 0/4422102 [00:00<?, ?it/s]\u001b[A\n",
      "  0%|          | 16384/4422102 [00:00<00:38, 114214.18it/s]\u001b[A\n",
      "  1%|          | 32768/4422102 [00:00<00:37, 117304.10it/s]\u001b[A\n",
      "  1%|          | 49152/4422102 [00:01<00:37, 117536.03it/s]\u001b[A\n",
      "  1%|▏         | 65536/4422102 [00:01<00:36, 118249.05it/s]\u001b[A\n",
      "  2%|▏         | 81920/4422102 [00:01<00:34, 126992.04it/s]\u001b[A\n",
      "  2%|▏         | 98304/4422102 [00:01<00:32, 134726.03it/s]\u001b[A\n",
      "  3%|▎         | 114688/4422102 [00:01<00:31, 137401.80it/s]\u001b[A\n",
      "  3%|▎         | 139264/4422102 [00:01<00:30, 141022.95it/s]\u001b[A\n",
      "  4%|▎         | 155648/4422102 [00:01<00:31, 134876.04it/s]\u001b[A\n",
      "  4%|▍         | 172032/4422102 [00:01<00:30, 140260.55it/s]\u001b[A\n",
      "  4%|▍         | 188416/4422102 [00:02<00:29, 141345.48it/s]\u001b[A\n",
      "  5%|▍         | 204800/4422102 [00:02<00:31, 134476.69it/s]\u001b[A\n",
      "  5%|▌         | 221184/4422102 [00:02<00:31, 133095.56it/s]\u001b[A\n",
      "  5%|▌         | 237568/4422102 [00:02<00:32, 129124.04it/s]\u001b[A\n",
      "  6%|▌         | 253952/4422102 [00:02<00:32, 127174.22it/s]\u001b[A\n",
      "  6%|▌         | 270336/4422102 [00:02<00:33, 122581.67it/s]\u001b[A\n",
      "  6%|▋         | 286720/4422102 [00:02<00:32, 127971.35it/s]\u001b[A\n",
      "  7%|▋         | 311296/4422102 [00:02<00:29, 137683.98it/s]\u001b[A\n",
      "  7%|▋         | 327680/4422102 [00:03<00:28, 144266.75it/s]\u001b[A\n",
      "  8%|▊         | 344064/4422102 [00:03<00:27, 146156.47it/s]\u001b[A\n",
      "  8%|▊         | 360448/4422102 [00:03<00:28, 144580.41it/s]\u001b[A\n",
      "  9%|▊         | 376832/4422102 [00:03<00:30, 133526.24it/s]\u001b[A\n",
      "  9%|▉         | 393216/4422102 [00:03<00:31, 127169.45it/s]\u001b[A\n",
      "  9%|▉         | 409600/4422102 [00:03<00:34, 118005.53it/s]\u001b[A\n",
      " 10%|▉         | 425984/4422102 [00:03<00:33, 120264.88it/s]\u001b[A\n",
      " 10%|█         | 442368/4422102 [00:04<00:33, 119883.52it/s]\u001b[A\n",
      " 10%|█         | 458752/4422102 [00:04<00:34, 116325.25it/s]\u001b[A\n",
      " 11%|█         | 475136/4422102 [00:04<00:33, 116643.33it/s]\u001b[A\n",
      " 11%|█         | 491520/4422102 [00:04<00:32, 122473.10it/s]\u001b[A\n",
      " 11%|█▏        | 507904/4422102 [00:04<00:33, 117724.38it/s]\u001b[A\n",
      " 12%|█▏        | 524288/4422102 [00:04<00:32, 118160.58it/s]\u001b[A\n",
      " 12%|█▏        | 540672/4422102 [00:04<00:33, 115568.06it/s]\u001b[A\n",
      " 13%|█▎        | 557056/4422102 [00:05<00:34, 113561.87it/s]\u001b[A\n",
      " 13%|█▎        | 573440/4422102 [00:05<00:31, 121895.92it/s]\u001b[A\n",
      " 13%|█▎        | 589824/4422102 [00:05<00:29, 131957.12it/s]\u001b[A\n",
      " 14%|█▎        | 606208/4422102 [00:05<00:27, 138985.34it/s]\u001b[A\n",
      " 14%|█▍        | 622592/4422102 [00:05<00:26, 142381.50it/s]\u001b[A\n",
      " 14%|█▍        | 638976/4422102 [00:05<00:26, 144079.97it/s]\u001b[A\n",
      " 15%|█▍        | 655360/4422102 [00:05<00:27, 135751.67it/s]\u001b[A\n",
      " 15%|█▌        | 671744/4422102 [00:05<00:30, 121823.45it/s]\u001b[A\n",
      " 16%|█▌        | 688128/4422102 [00:06<00:44, 83764.79it/s] \u001b[A\n",
      " 16%|█▌        | 704512/4422102 [00:06<00:44, 83645.78it/s]\u001b[A\n",
      " 16%|█▋        | 720896/4422102 [00:06<00:38, 96780.25it/s]\u001b[A\n",
      " 17%|█▋        | 745472/4422102 [00:06<00:33, 110872.81it/s]\u001b[A\n",
      " 17%|█▋        | 770048/4422102 [00:06<00:29, 122484.22it/s]\u001b[A\n",
      " 18%|█▊        | 786432/4422102 [00:06<00:27, 131272.15it/s]\u001b[A\n",
      " 18%|█▊        | 802816/4422102 [00:07<00:28, 125537.01it/s]\u001b[A\n",
      " 19%|█▊        | 819200/4422102 [00:07<00:35, 102250.57it/s]\u001b[A\n",
      " 19%|█▉        | 835584/4422102 [00:07<00:33, 106645.25it/s]\u001b[A\n",
      " 19%|█▉        | 851968/4422102 [00:07<00:31, 112070.14it/s]\u001b[A\n",
      " 20%|█▉        | 868352/4422102 [00:07<00:31, 111094.28it/s]\u001b[A\n",
      " 20%|██        | 884736/4422102 [00:07<00:30, 114165.66it/s]\u001b[A\n",
      " 20%|██        | 901120/4422102 [00:07<00:31, 113506.76it/s]\u001b[A\n",
      " 21%|██        | 917504/4422102 [00:08<00:35, 99346.11it/s] \u001b[A\n",
      " 21%|██        | 933888/4422102 [00:08<00:32, 106928.64it/s]\u001b[A\n",
      " 21%|██▏       | 950272/4422102 [00:08<00:31, 108755.19it/s]\u001b[A\n",
      " 22%|██▏       | 966656/4422102 [00:08<00:32, 107459.55it/s]\u001b[A\n",
      " 22%|██▏       | 983040/4422102 [00:08<00:29, 115530.07it/s]\u001b[A\n",
      " 23%|██▎       | 999424/4422102 [00:08<00:29, 115598.05it/s]\u001b[A\n",
      " 23%|██▎       | 1015808/4422102 [00:09<00:29, 114715.45it/s]\u001b[A\n",
      " 23%|██▎       | 1032192/4422102 [00:09<00:29, 116214.97it/s]\u001b[A\n",
      " 24%|██▎       | 1048576/4422102 [00:09<00:28, 118405.79it/s]\u001b[A\n",
      " 24%|██▍       | 1064960/4422102 [00:09<00:28, 118559.28it/s]\u001b[A\n",
      " 24%|██▍       | 1081344/4422102 [00:09<00:27, 120164.10it/s]\u001b[A\n",
      " 25%|██▍       | 1097728/4422102 [00:09<00:25, 129701.12it/s]\u001b[A\n",
      " 25%|██▌       | 1114112/4422102 [00:09<00:25, 132191.24it/s]\u001b[A\n",
      " 26%|██▌       | 1138688/4422102 [00:09<00:22, 144486.04it/s]\u001b[A\n",
      " 26%|██▋       | 1163264/4422102 [00:10<00:21, 154166.42it/s]\u001b[A\n",
      " 27%|██▋       | 1179648/4422102 [00:10<00:20, 156388.71it/s]\u001b[A\n",
      " 27%|██▋       | 1196032/4422102 [00:10<00:22, 143766.10it/s]\u001b[A\n",
      " 27%|██▋       | 1212416/4422102 [00:10<00:24, 131169.35it/s]\u001b[A\n",
      " 28%|██▊       | 1228800/4422102 [00:10<00:26, 122548.76it/s]\u001b[A\n",
      " 28%|██▊       | 1245184/4422102 [00:10<00:24, 128864.61it/s]\u001b[A\n",
      " 29%|██▊       | 1261568/4422102 [00:10<00:25, 123189.09it/s]\u001b[A\n",
      " 29%|██▉       | 1277952/4422102 [00:10<00:26, 120493.74it/s]\u001b[A\n",
      " 29%|██▉       | 1294336/4422102 [00:11<00:24, 126974.31it/s]\u001b[A\n",
      " 30%|██▉       | 1310720/4422102 [00:11<00:24, 125266.89it/s]\u001b[A\n",
      " 30%|███       | 1327104/4422102 [00:11<00:25, 122694.96it/s]\u001b[A\n",
      " 30%|███       | 1343488/4422102 [00:11<00:26, 118284.29it/s]\u001b[A\n",
      " 31%|███       | 1359872/4422102 [00:11<00:24, 124271.51it/s]\u001b[A\n",
      "26427392it [10:40, 111327.07it/s]                              A\n",
      " 31%|███▏      | 1392640/4422102 [00:12<00:38, 78943.70it/s]\u001b[A\n",
      " 32%|███▏      | 1409024/4422102 [00:13<01:13, 41217.28it/s]\u001b[A\n",
      " 32%|███▏      | 1417216/4422102 [00:13<01:31, 32809.57it/s]\u001b[A\n",
      " 32%|███▏      | 1425408/4422102 [00:14<02:17, 21870.94it/s]\u001b[A\n",
      " 32%|███▏      | 1433600/4422102 [00:14<01:55, 25862.18it/s]\u001b[A\n",
      " 33%|███▎      | 1441792/4422102 [00:14<01:32, 32176.98it/s]\u001b[A\n",
      " 33%|███▎      | 1449984/4422102 [00:14<01:27, 34098.92it/s]\u001b[A\n",
      " 33%|███▎      | 1466368/4422102 [00:14<01:11, 41373.63it/s]\u001b[A\n",
      " 34%|███▎      | 1482752/4422102 [00:14<01:00, 48622.05it/s]\u001b[A\n",
      " 34%|███▍      | 1499136/4422102 [00:15<00:51, 56919.82it/s]\u001b[A\n",
      " 34%|███▍      | 1515520/4422102 [00:15<00:48, 59663.26it/s]\u001b[A\n",
      " 35%|███▍      | 1531904/4422102 [00:15<00:44, 65006.71it/s]\u001b[A\n",
      " 35%|███▌      | 1548288/4422102 [00:15<00:38, 73829.14it/s]\u001b[A\n",
      " 35%|███▌      | 1564672/4422102 [00:15<00:36, 78378.26it/s]\u001b[A\n",
      " 36%|███▌      | 1581056/4422102 [00:16<00:35, 80170.73it/s]\u001b[A\n",
      " 36%|███▌      | 1597440/4422102 [00:16<00:35, 80146.22it/s]\u001b[A\n",
      " 36%|███▋      | 1613824/4422102 [00:16<00:34, 81462.99it/s]\u001b[A\n",
      " 37%|███▋      | 1630208/4422102 [00:16<00:48, 57518.85it/s]\u001b[A\n",
      " 37%|███▋      | 1646592/4422102 [00:17<00:42, 64890.88it/s]\u001b[A\n",
      " 37%|███▋      | 1654784/4422102 [00:17<00:44, 62752.99it/s]\u001b[A\n",
      " 38%|███▊      | 1671168/4422102 [00:17<00:40, 68576.02it/s]\u001b[A\n",
      " 38%|███▊      | 1687552/4422102 [00:17<00:38, 70182.68it/s]\u001b[A\n",
      " 39%|███▊      | 1703936/4422102 [00:17<00:36, 74549.17it/s]\u001b[A\n",
      " 39%|███▊      | 1712128/4422102 [00:17<00:36, 74701.04it/s]\u001b[A\n",
      " 39%|███▉      | 1728512/4422102 [00:18<00:33, 80540.83it/s]\u001b[A\n",
      " 39%|███▉      | 1744896/4422102 [00:18<00:32, 82328.59it/s]\u001b[A\n",
      " 40%|███▉      | 1761280/4422102 [00:18<00:34, 78107.64it/s]\u001b[A\n",
      " 40%|████      | 1769472/4422102 [00:18<00:36, 73525.94it/s]\u001b[A\n",
      " 40%|████      | 1785856/4422102 [00:18<00:32, 79951.88it/s]\u001b[A\n",
      " 41%|████      | 1810432/4422102 [00:19<00:27, 94320.35it/s]\u001b[A\n",
      " 41%|████▏     | 1826816/4422102 [00:19<00:24, 106047.64it/s]\u001b[A\n",
      " 42%|████▏     | 1843200/4422102 [00:19<00:22, 117109.85it/s]\u001b[A\n",
      " 42%|████▏     | 1859584/4422102 [00:19<00:21, 121670.48it/s]\u001b[A\n",
      " 42%|████▏     | 1875968/4422102 [00:19<00:19, 128048.60it/s]\u001b[A\n",
      " 43%|████▎     | 1900544/4422102 [00:19<00:18, 136299.33it/s]\u001b[A\n",
      " 43%|████▎     | 1916928/4422102 [00:19<00:18, 134899.65it/s]\u001b[A\n",
      " 44%|████▎     | 1933312/4422102 [00:19<00:18, 137772.34it/s]\u001b[A\n",
      " 44%|████▍     | 1957888/4422102 [00:20<00:16, 146594.90it/s]\u001b[A\n",
      " 45%|████▍     | 1974272/4422102 [00:20<00:16, 150929.13it/s]\u001b[A\n",
      " 45%|████▌     | 1990656/4422102 [00:20<00:15, 152381.41it/s]\u001b[A\n",
      " 46%|████▌     | 2015232/4422102 [00:20<00:16, 146942.32it/s]\u001b[A\n",
      " 46%|████▌     | 2031616/4422102 [00:20<00:17, 136412.68it/s]\u001b[A\n",
      " 46%|████▋     | 2048000/4422102 [00:20<00:16, 140171.35it/s]\u001b[A\n",
      " 47%|████▋     | 2064384/4422102 [00:20<00:16, 142568.97it/s]\u001b[A\n",
      " 47%|████▋     | 2080768/4422102 [00:21<00:23, 101371.78it/s]\u001b[A\n"
     ]
    },
    {
     "name": "stderr",
     "output_type": "stream",
     "text": [
      " 47%|████▋     | 2097152/4422102 [00:21<00:20, 111247.85it/s]\u001b[A\n",
      " 48%|████▊     | 2121728/4422102 [00:21<00:18, 124934.52it/s]\u001b[A\n",
      " 48%|████▊     | 2138112/4422102 [00:21<00:18, 126565.35it/s]\u001b[A\n",
      " 49%|████▉     | 2162688/4422102 [00:21<00:16, 138187.73it/s]\u001b[A\n",
      " 49%|████▉     | 2179072/4422102 [00:21<00:15, 144068.79it/s]\u001b[A\n",
      " 50%|████▉     | 2195456/4422102 [00:21<00:15, 140419.64it/s]\u001b[A\n",
      " 50%|█████     | 2220032/4422102 [00:21<00:14, 151070.95it/s]\u001b[A\n",
      " 51%|█████     | 2236416/4422102 [00:22<00:14, 151171.06it/s]\u001b[A\n",
      " 51%|█████     | 2260992/4422102 [00:22<00:14, 153917.13it/s]\u001b[A\n",
      " 52%|█████▏    | 2285568/4422102 [00:22<00:13, 154255.23it/s]\u001b[A\n",
      " 52%|█████▏    | 2310144/4422102 [00:22<00:13, 158976.51it/s]\u001b[A\n",
      " 53%|█████▎    | 2326528/4422102 [00:22<00:13, 158916.38it/s]\u001b[A\n",
      " 53%|█████▎    | 2342912/4422102 [00:22<00:13, 156590.94it/s]\u001b[A\n",
      " 53%|█████▎    | 2359296/4422102 [00:22<00:13, 158357.34it/s]\u001b[A\n",
      " 54%|█████▎    | 2375680/4422102 [00:22<00:13, 156531.88it/s]\u001b[A\n",
      " 54%|█████▍    | 2392064/4422102 [00:22<00:13, 155761.85it/s]\u001b[A\n",
      " 55%|█████▍    | 2416640/4422102 [00:23<00:12, 164172.75it/s]\u001b[A\n",
      " 55%|█████▌    | 2441216/4422102 [00:23<00:11, 171507.65it/s]\u001b[A\n",
      " 56%|█████▌    | 2465792/4422102 [00:23<00:10, 182325.84it/s]\u001b[A\n",
      " 56%|█████▋    | 2490368/4422102 [00:23<00:10, 184586.11it/s]\u001b[A\n",
      " 57%|█████▋    | 2514944/4422102 [00:23<00:10, 182324.43it/s]\u001b[A\n",
      " 57%|█████▋    | 2539520/4422102 [00:23<00:11, 157113.32it/s]\u001b[A\n",
      " 58%|█████▊    | 2564096/4422102 [00:23<00:11, 162092.44it/s]\u001b[A\n",
      " 59%|█████▊    | 2588672/4422102 [00:24<00:24, 73929.79it/s] \u001b[A\n",
      " 59%|█████▉    | 2605056/4422102 [00:25<00:27, 65593.58it/s]\u001b[A\n",
      " 59%|█████▉    | 2621440/4422102 [00:25<00:23, 75609.28it/s]\u001b[A\n",
      " 60%|█████▉    | 2637824/4422102 [00:25<00:20, 86302.12it/s]\u001b[A\n",
      " 60%|██████    | 2654208/4422102 [00:25<00:18, 97069.88it/s]\u001b[A\n",
      " 60%|██████    | 2670592/4422102 [00:25<00:18, 96354.84it/s]\u001b[A\n",
      " 61%|██████    | 2686976/4422102 [00:25<00:24, 71132.03it/s]\u001b[A\n",
      " 61%|██████    | 2703360/4422102 [00:26<00:36, 47518.80it/s]\u001b[A\n",
      " 62%|██████▏   | 2719744/4422102 [00:26<00:31, 53418.41it/s]\u001b[A\n",
      " 62%|██████▏   | 2727936/4422102 [00:26<00:30, 55798.25it/s]\u001b[A\n",
      " 62%|██████▏   | 2736128/4422102 [00:27<00:28, 58949.50it/s]\u001b[A\n",
      " 62%|██████▏   | 2744320/4422102 [00:27<00:29, 57690.40it/s]\u001b[A\n",
      " 62%|██████▏   | 2752512/4422102 [00:27<00:28, 58531.02it/s]\u001b[A\n",
      " 62%|██████▏   | 2760704/4422102 [00:27<00:27, 60984.59it/s]\u001b[A\n",
      " 63%|██████▎   | 2768896/4422102 [00:27<00:33, 48964.66it/s]\u001b[A\n",
      " 63%|██████▎   | 2777088/4422102 [00:27<00:32, 50589.82it/s]\u001b[A\n",
      " 63%|██████▎   | 2785280/4422102 [00:27<00:29, 55511.49it/s]\u001b[A\n",
      " 63%|██████▎   | 2793472/4422102 [00:28<00:30, 53851.87it/s]\u001b[A\n",
      " 63%|██████▎   | 2801664/4422102 [00:28<00:35, 45114.65it/s]\u001b[A\n",
      " 64%|██████▎   | 2809856/4422102 [00:28<00:35, 45342.97it/s]\u001b[A\n",
      " 64%|██████▎   | 2818048/4422102 [00:28<00:32, 49187.77it/s]\u001b[A\n",
      " 64%|██████▍   | 2826240/4422102 [00:28<00:31, 50759.68it/s]\u001b[A\n",
      " 64%|██████▍   | 2842624/4422102 [00:29<00:26, 60326.17it/s]\u001b[A\n",
      " 65%|██████▍   | 2859008/4422102 [00:29<00:23, 66096.08it/s]\u001b[A\n",
      " 65%|██████▌   | 2875392/4422102 [00:29<00:19, 77738.06it/s]\u001b[A\n",
      " 65%|██████▌   | 2891776/4422102 [00:29<00:18, 84761.62it/s]\u001b[A\n",
      " 66%|██████▌   | 2908160/4422102 [00:29<00:16, 91507.91it/s]\u001b[A\n",
      " 66%|██████▌   | 2924544/4422102 [00:29<00:16, 88713.14it/s]\u001b[A\n",
      " 67%|██████▋   | 2940928/4422102 [00:29<00:16, 91802.82it/s]\u001b[A\n",
      " 67%|██████▋   | 2957312/4422102 [00:30<00:15, 92956.10it/s]\u001b[A\n",
      " 67%|██████▋   | 2973696/4422102 [00:30<00:15, 92636.19it/s]\u001b[A\n",
      " 68%|██████▊   | 2990080/4422102 [00:31<00:28, 50539.55it/s]\u001b[A\n",
      " 68%|██████▊   | 3006464/4422102 [00:31<00:23, 59952.01it/s]\u001b[A\n",
      " 68%|██████▊   | 3022848/4422102 [00:31<00:20, 69706.82it/s]\u001b[A\n",
      " 69%|██████▊   | 3039232/4422102 [00:31<00:17, 79441.31it/s]\u001b[A\n",
      " 69%|██████▉   | 3063808/4422102 [00:31<00:14, 95795.95it/s]\u001b[A\n",
      " 70%|██████▉   | 3080192/4422102 [00:31<00:12, 107632.13it/s]\u001b[A\n",
      " 70%|███████   | 3096576/4422102 [00:31<00:11, 117371.23it/s]\u001b[A\n",
      " 71%|███████   | 3121152/4422102 [00:31<00:09, 132238.80it/s]\u001b[A\n",
      " 71%|███████   | 3137536/4422102 [00:32<00:09, 135447.87it/s]\u001b[A\n",
      " 72%|███████▏  | 3162112/4422102 [00:32<00:08, 146903.54it/s]\u001b[A\n",
      " 72%|███████▏  | 3186688/4422102 [00:32<00:08, 146931.66it/s]\u001b[A\n",
      " 72%|███████▏  | 3203072/4422102 [00:32<00:08, 137720.06it/s]\u001b[A\n",
      " 73%|███████▎  | 3219456/4422102 [00:32<00:09, 130010.08it/s]\u001b[A\n",
      " 73%|███████▎  | 3235840/4422102 [00:32<00:09, 127723.57it/s]\u001b[A\n",
      " 74%|███████▎  | 3252224/4422102 [00:32<00:09, 125305.88it/s]\u001b[A\n",
      " 74%|███████▍  | 3268608/4422102 [00:33<00:09, 115417.35it/s]\u001b[A\n",
      " 74%|███████▍  | 3284992/4422102 [00:33<00:10, 113472.38it/s]\u001b[A\n",
      " 75%|███████▍  | 3301376/4422102 [00:33<00:10, 111650.21it/s]\u001b[A\n",
      " 75%|███████▌  | 3317760/4422102 [00:33<00:09, 111683.03it/s]\u001b[A\n",
      " 75%|███████▌  | 3334144/4422102 [00:33<00:09, 114789.82it/s]\u001b[A\n",
      " 76%|███████▌  | 3350528/4422102 [00:33<00:09, 110126.35it/s]\u001b[A\n",
      " 76%|███████▌  | 3366912/4422102 [00:33<00:09, 115089.24it/s]\u001b[A\n",
      " 77%|███████▋  | 3383296/4422102 [00:34<00:09, 112377.56it/s]\u001b[A\n",
      " 77%|███████▋  | 3399680/4422102 [00:34<00:08, 113707.13it/s]\u001b[A\n",
      " 77%|███████▋  | 3416064/4422102 [00:34<00:08, 111978.85it/s]\u001b[A\n",
      " 78%|███████▊  | 3432448/4422102 [00:34<00:08, 112281.88it/s]\u001b[A\n",
      " 78%|███████▊  | 3448832/4422102 [00:34<00:08, 111176.94it/s]\u001b[A\n",
      " 78%|███████▊  | 3465216/4422102 [00:34<00:09, 106009.92it/s]\u001b[A\n",
      " 79%|███████▊  | 3481600/4422102 [00:34<00:08, 110244.59it/s]\u001b[A\n",
      " 79%|███████▉  | 3497984/4422102 [00:35<00:08, 110561.33it/s]\u001b[A\n",
      " 79%|███████▉  | 3514368/4422102 [00:35<00:08, 113451.49it/s]\u001b[A\n",
      " 80%|███████▉  | 3530752/4422102 [00:35<00:07, 111599.12it/s]\u001b[A\n",
      " 80%|████████  | 3547136/4422102 [00:35<00:07, 113274.46it/s]\u001b[A\n",
      " 81%|████████  | 3563520/4422102 [00:35<00:07, 111407.97it/s]\u001b[A\n",
      " 81%|████████  | 3579904/4422102 [00:35<00:07, 112617.36it/s]\u001b[A\n",
      " 81%|████████▏ | 3596288/4422102 [00:35<00:07, 111590.84it/s]\u001b[A\n",
      " 82%|████████▏ | 3612672/4422102 [00:36<00:07, 112385.67it/s]\u001b[A\n",
      " 82%|████████▏ | 3629056/4422102 [00:36<00:07, 108293.36it/s]\u001b[A\n",
      " 82%|████████▏ | 3645440/4422102 [00:36<00:07, 106866.30it/s]\u001b[A\n",
      " 83%|████████▎ | 3661824/4422102 [00:36<00:07, 105108.51it/s]\u001b[A\n",
      " 83%|████████▎ | 3678208/4422102 [00:36<00:06, 113202.79it/s]\u001b[A\n",
      " 84%|████████▎ | 3694592/4422102 [00:36<00:06, 109589.62it/s]\u001b[A\n",
      " 84%|████████▍ | 3710976/4422102 [00:37<00:06, 112025.69it/s]\u001b[A\n",
      " 84%|████████▍ | 3727360/4422102 [00:37<00:06, 110200.88it/s]\u001b[A\n",
      " 85%|████████▍ | 3743744/4422102 [00:37<00:06, 109965.77it/s]\u001b[A\n",
      " 85%|████████▌ | 3760128/4422102 [00:37<00:06, 106513.95it/s]\u001b[A\n",
      " 85%|████████▌ | 3776512/4422102 [00:37<00:05, 111494.14it/s]\u001b[A\n",
      " 86%|████████▌ | 3792896/4422102 [00:37<00:05, 109544.81it/s]\u001b[A\n",
      " 86%|████████▌ | 3809280/4422102 [00:37<00:05, 112109.01it/s]\u001b[A\n",
      " 87%|████████▋ | 3825664/4422102 [00:38<00:05, 112646.88it/s]\u001b[A\n",
      " 87%|████████▋ | 3842048/4422102 [00:38<00:05, 110656.47it/s]\u001b[A\n",
      " 87%|████████▋ | 3858432/4422102 [00:38<00:05, 108032.01it/s]\u001b[A\n",
      " 88%|████████▊ | 3874816/4422102 [00:38<00:05, 108391.22it/s]\u001b[A\n",
      " 88%|████████▊ | 3891200/4422102 [00:38<00:05, 105021.06it/s]\u001b[A\n",
      " 88%|████████▊ | 3907584/4422102 [00:38<00:05, 102664.25it/s]\u001b[A\n",
      " 89%|████████▊ | 3923968/4422102 [00:39<00:04, 100417.87it/s]\u001b[A\n",
      " 89%|████████▉ | 3940352/4422102 [00:39<00:04, 107343.01it/s]\u001b[A\n",
      " 89%|████████▉ | 3956736/4422102 [00:39<00:04, 102666.84it/s]\u001b[A\n",
      " 90%|████████▉ | 3973120/4422102 [00:39<00:04, 101173.88it/s]\u001b[A\n",
      " 90%|█████████ | 3989504/4422102 [00:39<00:04, 89444.31it/s] \u001b[A\n",
      " 91%|█████████ | 4005888/4422102 [00:39<00:04, 93099.33it/s]\u001b[A\n",
      " 91%|█████████ | 4022272/4422102 [00:40<00:04, 87226.61it/s]\u001b[A\n",
      " 91%|█████████▏| 4038656/4422102 [00:40<00:04, 87248.54it/s]\u001b[A\n",
      " 92%|█████████▏| 4055040/4422102 [00:40<00:04, 83791.90it/s]\u001b[A\n",
      " 92%|█████████▏| 4071424/4422102 [00:40<00:04, 83979.13it/s]\u001b[A\n",
      " 92%|█████████▏| 4087808/4422102 [00:40<00:03, 86943.11it/s]\u001b[A\n",
      " 93%|█████████▎| 4104192/4422102 [00:41<00:03, 88723.33it/s]\u001b[A\n",
      " 93%|█████████▎| 4120576/4422102 [00:41<00:03, 92935.38it/s]\u001b[A\n",
      " 94%|█████████▎| 4136960/4422102 [00:41<00:02, 98491.56it/s]\u001b[A\n",
      " 94%|█████████▍| 4153344/4422102 [00:41<00:02, 99619.52it/s]\u001b[A\n",
      " 94%|█████████▍| 4169728/4422102 [00:41<00:02, 104326.10it/s]\u001b[A\n",
      " 95%|█████████▍| 4186112/4422102 [00:41<00:02, 109096.52it/s]\u001b[A\n"
     ]
    },
    {
     "name": "stderr",
     "output_type": "stream",
     "text": [
      " 95%|█████████▌| 4202496/4422102 [00:41<00:01, 111651.59it/s]\u001b[A\n",
      " 95%|█████████▌| 4218880/4422102 [00:42<00:01, 102929.33it/s]\u001b[A\n",
      " 96%|█████████▌| 4235264/4422102 [00:42<00:01, 106582.88it/s]\u001b[A\n",
      " 96%|█████████▌| 4251648/4422102 [00:42<00:01, 111459.67it/s]\u001b[A\n",
      " 97%|█████████▋| 4268032/4422102 [00:42<00:01, 102932.30it/s]\u001b[A\n",
      " 97%|█████████▋| 4284416/4422102 [00:42<00:01, 109127.34it/s]\u001b[A\n",
      " 97%|█████████▋| 4300800/4422102 [00:42<00:01, 110199.97it/s]\u001b[A\n",
      " 98%|█████████▊| 4317184/4422102 [00:43<00:00, 110935.72it/s]\u001b[A\n",
      " 98%|█████████▊| 4333568/4422102 [00:43<00:00, 110693.31it/s]\u001b[A\n",
      " 98%|█████████▊| 4349952/4422102 [00:43<00:00, 112540.72it/s]\u001b[A\n",
      " 99%|█████████▊| 4366336/4422102 [00:43<00:00, 113599.85it/s]\u001b[A\n",
      " 99%|█████████▉| 4382720/4422102 [00:43<00:00, 114837.04it/s]\u001b[A\n",
      " 99%|█████████▉| 4399104/4422102 [00:43<00:00, 108384.78it/s]\u001b[A\n",
      "100%|█████████▉| 4415488/4422102 [00:43<00:00, 106089.28it/s]\u001b[A\n",
      "\n",
      "0it [00:00, ?it/s]\u001b[A\u001b[A"
     ]
    },
    {
     "name": "stdout",
     "output_type": "stream",
     "text": [
      "Extracting ./data/f_mnist/FashionMNIST/raw/t10k-images-idx3-ubyte.gz to ./data/f_mnist/FashionMNIST/raw\n",
      "Downloading http://fashion-mnist.s3-website.eu-central-1.amazonaws.com/t10k-labels-idx1-ubyte.gz to ./data/f_mnist/FashionMNIST/raw/t10k-labels-idx1-ubyte.gz\n"
     ]
    },
    {
     "name": "stderr",
     "output_type": "stream",
     "text": [
      "\n",
      "\n",
      "  0%|          | 0/5148 [00:11<?, ?it/s]\u001b[A\u001b[A"
     ]
    },
    {
     "name": "stdout",
     "output_type": "stream",
     "text": [
      "Extracting ./data/f_mnist/FashionMNIST/raw/t10k-labels-idx1-ubyte.gz to ./data/f_mnist/FashionMNIST/raw\n",
      "Processing...\n",
      "Done!\n"
     ]
    }
   ],
   "source": [
    "dl_train = torch.utils.data.DataLoader(\n",
    "    torchvision.datasets.FashionMNIST('./data/f_mnist', train=True, download=True))\n",
    "\n",
    "dl_test  = torch.utils.data.DataLoader(\n",
    "    torchvision.datasets.FashionMNIST('./data/f_mnist', train=False, download=True))"
   ]
  },
  {
   "cell_type": "code",
   "execution_count": 4,
   "metadata": {
    "slideshow": {
     "slide_type": "slide"
    }
   },
   "outputs": [],
   "source": [
    "data   = dl_train.dataset.data.to(dtype=torch.float32)\n",
    "labels = dl_train.dataset.targets"
   ]
  },
  {
   "cell_type": "code",
   "execution_count": 5,
   "metadata": {
    "slideshow": {
     "slide_type": "slide"
    }
   },
   "outputs": [
    {
     "data": {
      "image/png": "[encoded data removed]",
      "text/plain": [
       "<Figure size 2304x288 with 8 Axes>"
      ]
     },
     "metadata": {
      "needs_background": "light"
     },
     "output_type": "display_data"
    }
   ],
   "source": [
    "fig_mnist, ax = plt.subplots(1,8, figsize=(8*4,4))\n",
    "for i in range(8):\n",
    "    ax[i].imshow(data[i].numpy(), cmap='Greys');"
   ]
  },
  {
   "cell_type": "code",
   "execution_count": 6,
   "metadata": {},
   "outputs": [
    {
     "data": {
      "text/plain": [
       "tensor([9, 0, 0, 3, 0, 2, 7, 2])"
      ]
     },
     "execution_count": 6,
     "metadata": {},
     "output_type": "execute_result"
    }
   ],
   "source": [
    "labels[0:8]"
   ]
  },
  {
   "cell_type": "code",
   "execution_count": 7,
   "metadata": {
    "slideshow": {
     "slide_type": "slide"
    }
   },
   "outputs": [],
   "source": [
    "dataset = torch.utils.data.TensorDataset( \n",
    "    (data/256.0).view(-1,28*28), \n",
    "    labels)"
   ]
  },
  {
   "cell_type": "code",
   "execution_count": 8,
   "metadata": {
    "slideshow": {
     "slide_type": "-"
    }
   },
   "outputs": [],
   "source": [
    "train_dataset, validation_dataset = random_split(dataset, (50000,10000))"
   ]
  },
  {
   "cell_type": "code",
   "execution_count": 9,
   "metadata": {},
   "outputs": [],
   "source": [
    "train_loader = torch.utils.data.DataLoader(train_dataset, batch_size=100, shuffle=True)"
   ]
  },
  {
   "cell_type": "code",
   "execution_count": 10,
   "metadata": {
    "slideshow": {
     "slide_type": "slide"
    }
   },
   "outputs": [],
   "source": [
    "datasets = [\n",
    "    torch.utils.data.Subset(train_dataset,torch.randint(len(train_dataset),(len(train_dataset),))) for i in range(5)]"
   ]
  },
  {
   "cell_type": "code",
   "execution_count": 11,
   "metadata": {
    "slideshow": {
     "slide_type": "-"
    }
   },
   "outputs": [],
   "source": [
    "train_loaders = [torch.utils.data.DataLoader(d, \n",
    "                                           batch_size=100, \n",
    "                                           shuffle=True) for d in datasets]"
   ]
  },
  {
   "cell_type": "code",
   "execution_count": 12,
   "metadata": {
    "slideshow": {
     "slide_type": "slide"
    }
   },
   "outputs": [],
   "source": [
    "test_data   = dl_test.dataset.data.to(dtype=torch.float32)\n",
    "test_labels = dl_test.dataset.targets\n",
    "test_dataset = torch.utils.data.TensorDataset(\n",
    "    (test_data/256.0).view(-1,28*28), test_labels)"
   ]
  },
  {
   "cell_type": "code",
   "execution_count": 13,
   "metadata": {
    "slideshow": {
     "slide_type": "slide"
    }
   },
   "outputs": [],
   "source": [
    "models = [torch.nn.Sequential(\n",
    "    nn.Linear(28*28,1200), nn.ReLU(),\n",
    "    nn.Linear(1200,1200), nn.ReLU(),\n",
    "    nn.Linear(1200,1200), nn.ReLU(),\n",
    "    nn.Linear(1200,10)\n",
    ") for i in range(len(datasets))]"
   ]
  },
  {
   "cell_type": "code",
   "execution_count": 14,
   "metadata": {
    "slideshow": {
     "slide_type": "slide"
    }
   },
   "outputs": [],
   "source": [
    "optims = [torch.optim.SGD(models[i].parameters(), lr=0.01, momentum=0.6) for i in range(len(datasets))]"
   ]
  },
  {
   "cell_type": "code",
   "execution_count": 15,
   "metadata": {
    "slideshow": {
     "slide_type": "slide"
    }
   },
   "outputs": [],
   "source": [
    "loss_f = nn.CrossEntropyLoss()"
   ]
  },
  {
   "cell_type": "code",
   "execution_count": 16,
   "metadata": {
    "slideshow": {
     "slide_type": "-"
    }
   },
   "outputs": [
    {
     "name": "stderr",
     "output_type": "stream",
     "text": [
      "\n",
      "4423680it [01:01, 106089.28it/s]                             \u001b[A"
     ]
    },
    {
     "name": "stdout",
     "output_type": "stream",
     "text": [
      "0 0 0.7433028221130371\n",
      "0 1 0.6619833111763\n",
      "0 2 0.36267971992492676\n",
      "0 3 0.3801907002925873\n",
      "0 4 0.45917755365371704\n",
      "0 5 0.4451729953289032\n",
      "0 6 0.28702104091644287\n",
      "0 7 0.3658377528190613\n",
      "0 8 0.2330213040113449\n",
      "0 9 0.31461310386657715\n",
      "1 0 0.7444758415222168\n",
      "1 1 0.48866671323776245\n",
      "1 2 0.4677034020423889\n",
      "1 3 0.6180479526519775\n",
      "1 4 0.5237935781478882\n",
      "1 5 0.3869703412055969\n",
      "1 6 0.43017253279685974\n",
      "1 7 0.2626284658908844\n",
      "1 8 0.3350714147090912\n",
      "1 9 0.3977390229701996\n",
      "2 0 0.6088564395904541\n",
      "2 1 0.5282242298126221\n",
      "2 2 0.4595123529434204\n",
      "2 3 0.36077332496643066\n",
      "2 4 0.4426266551017761\n",
      "2 5 0.6680627465248108\n",
      "2 6 0.4576907753944397\n",
      "2 7 0.4117852449417114\n",
      "2 8 0.3390873372554779\n",
      "2 9 0.3492666482925415\n",
      "3 0 0.7527427673339844\n",
      "3 1 0.7051754593849182\n",
      "3 2 0.41933485865592957\n",
      "3 3 0.6730900406837463\n",
      "3 4 0.48170870542526245\n",
      "3 5 0.36175593733787537\n",
      "3 6 0.4642467498779297\n",
      "3 7 0.32766979932785034\n",
      "3 8 0.3523498773574829\n",
      "3 9 0.32943612337112427\n",
      "4 0 0.7142040133476257\n",
      "4 1 0.4872399568557739\n",
      "4 2 0.6384567022323608\n",
      "4 3 0.38711005449295044\n",
      "4 4 0.381397545337677\n",
      "4 5 0.40742072463035583\n",
      "4 6 0.47705569863319397\n",
      "4 7 0.3356829881668091\n",
      "4 8 0.3579896092414856\n",
      "4 9 0.3199117183685303\n",
      "CPU times: user 58min 37s, sys: 18min 48s, total: 1h 17min 25s\n",
      "Wall time: 32min 6s\n"
     ]
    }
   ],
   "source": [
    "%%time\n",
    "for i in range(len(datasets)):\n",
    "    for e in range(10):\n",
    "        for d in train_loaders[i]:        \n",
    "            optims[i].zero_grad()\n",
    "            features, labels = d\n",
    "            pred = models[i](features)\n",
    "            loss = loss_f(pred, labels)\n",
    "            loss.backward()\n",
    "            optims[i].step()\n",
    "        print(i,e,loss.item())        "
   ]
  },
  {
   "cell_type": "code",
   "execution_count": 17,
   "metadata": {
    "slideshow": {
     "slide_type": "slide"
    }
   },
   "outputs": [
    {
     "name": "stdout",
     "output_type": "stream",
     "text": [
      "tensor(0.8762)\n",
      "tensor(0.8818)\n",
      "tensor(0.8831)\n",
      "tensor(0.8833)\n",
      "tensor(0.8771)\n"
     ]
    }
   ],
   "source": [
    "with torch.no_grad():\n",
    "    for i in range(len(datasets)):\n",
    "        pred = torch.softmax(models[i](datasets[i][:][0]),1)\n",
    "        ac = torch.sum(torch.argmax(pred,1)==datasets[i][:][1]).to(dtype=torch.float32)/len(datasets[i])\n",
    "        print(ac)  "
   ]
  },
  {
   "cell_type": "code",
   "execution_count": 18,
   "metadata": {},
   "outputs": [
    {
     "name": "stdout",
     "output_type": "stream",
     "text": [
      "tensor(0.8656)\n",
      "tensor(0.8661)\n",
      "tensor(0.8688)\n",
      "tensor(0.8667)\n",
      "tensor(0.8608)\n"
     ]
    }
   ],
   "source": [
    "with torch.no_grad():\n",
    "    for i in range(len(datasets)):\n",
    "        pred = torch.softmax(models[i](validation_dataset[:][0]),1)\n",
    "        ac = torch.sum(torch.argmax(pred,1)==validation_dataset[:][1]).to(dtype=torch.float32)/len(test_dataset)\n",
    "        print(ac)    "
   ]
  },
  {
   "cell_type": "code",
   "execution_count": 19,
   "metadata": {
    "slideshow": {
     "slide_type": "slide"
    }
   },
   "outputs": [],
   "source": [
    "def predict_class (model, inp):\n",
    "    pred = torch.softmax(model(inp),dim=1)\n",
    "    return torch.argmax(pred,dim=1)"
   ]
  },
  {
   "cell_type": "code",
   "execution_count": 20,
   "metadata": {},
   "outputs": [],
   "source": [
    "preds = [predict_class(models[i], validation_dataset[:][0]) for i in range(len(datasets))]"
   ]
  },
  {
   "cell_type": "code",
   "execution_count": 21,
   "metadata": {},
   "outputs": [
    {
     "data": {
      "text/plain": [
       "[tensor([5, 8, 1,  ..., 7, 4, 1]),\n",
       " tensor([5, 8, 1,  ..., 7, 4, 1]),\n",
       " tensor([5, 8, 1,  ..., 7, 4, 1]),\n",
       " tensor([5, 8, 1,  ..., 7, 4, 1]),\n",
       " tensor([5, 8, 1,  ..., 7, 4, 1])]"
      ]
     },
     "execution_count": 21,
     "metadata": {},
     "output_type": "execute_result"
    }
   ],
   "source": [
    "preds"
   ]
  },
  {
   "cell_type": "code",
   "execution_count": 22,
   "metadata": {
    "slideshow": {
     "slide_type": "slide"
    }
   },
   "outputs": [],
   "source": [
    "def vote(predictions):\n",
    "    npred=torch.stack(predictions, dim=1).numpy()\n",
    "    v  = np.apply_along_axis(lambda r: np.bincount(r).argmax(), 1, npred)\n",
    "    return torch.from_numpy(v)  "
   ]
  },
  {
   "cell_type": "code",
   "execution_count": 23,
   "metadata": {
    "slideshow": {
     "slide_type": "fragment"
    }
   },
   "outputs": [],
   "source": [
    "gold = vote(preds)"
   ]
  },
  {
   "cell_type": "code",
   "execution_count": 24,
   "metadata": {
    "slideshow": {
     "slide_type": "fragment"
    }
   },
   "outputs": [
    {
     "data": {
      "text/plain": [
       "0.8697"
      ]
     },
     "execution_count": 24,
     "metadata": {},
     "output_type": "execute_result"
    }
   ],
   "source": [
    "torch.sum(gold==validation_dataset[:][1]).item()/len(gold)"
   ]
  },
  {
   "cell_type": "markdown",
   "metadata": {
    "slideshow": {
     "slide_type": "slide"
    }
   },
   "source": [
    "## Dropout "
   ]
  },
  {
   "cell_type": "markdown",
   "metadata": {
    "slideshow": {
     "slide_type": "-"
    }
   },
   "source": [
    "<p style=\"text-align:center\"><img style=\"padding:24pt\" src=\"dropout.png\"/></p>"
   ]
  },
  {
   "cell_type": "code",
   "execution_count": 25,
   "metadata": {
    "slideshow": {
     "slide_type": "slide"
    }
   },
   "outputs": [],
   "source": [
    "model = torch.nn.Sequential(\n",
    "    nn.Linear(28*28,1200), nn.ReLU(),\n",
    "    nn.Dropout(0.5),\n",
    "    nn.Linear(1200,1200), nn.ReLU(),\n",
    "    nn.Dropout(0.5),\n",
    "    nn.Linear(1200,1200), nn.ReLU(),\n",
    "    nn.Dropout(0.5),\n",
    "    nn.Linear(1200,10)\n",
    ")"
   ]
  },
  {
   "cell_type": "code",
   "execution_count": 26,
   "metadata": {
    "slideshow": {
     "slide_type": "slide"
    }
   },
   "outputs": [],
   "source": [
    "optim = torch.optim.SGD(model.parameters(), lr=0.01 , momentum=0.6)"
   ]
  },
  {
   "cell_type": "code",
   "execution_count": 27,
   "metadata": {},
   "outputs": [
    {
     "name": "stdout",
     "output_type": "stream",
     "text": [
      "0 0.9689186811447144\n",
      "1 0.7463081479072571\n",
      "2 0.5247896313667297\n",
      "3 0.3879178762435913\n",
      "4 0.5865035057067871\n",
      "5 0.44436702132225037\n",
      "6 0.39764201641082764\n",
      "7 0.5194501280784607\n",
      "8 0.3794068396091461\n",
      "9 0.5405982732772827\n"
     ]
    }
   ],
   "source": [
    "model.train()\n",
    "for e in range(10):\n",
    "        for d in train_loader:        \n",
    "            optim.zero_grad()\n",
    "            features, labels = d\n",
    "            pred = model(features)\n",
    "            loss = loss_f(pred, labels)\n",
    "            loss.backward()\n",
    "            optim.step()\n",
    "        print(e,loss.item())        "
   ]
  },
  {
   "cell_type": "code",
   "execution_count": 28,
   "metadata": {
    "slideshow": {
     "slide_type": "slide"
    }
   },
   "outputs": [
    {
     "name": "stdout",
     "output_type": "stream",
     "text": [
      "tensor(0.8681)\n",
      "tensor(0.8639)\n"
     ]
    }
   ],
   "source": [
    "model.eval()\n",
    "pred = torch.softmax(model(train_dataset[:][0]),1)\n",
    "ac = torch.sum(torch.argmax(pred,1)==train_dataset[:][1]).to(dtype=torch.float32)/len(train_dataset)\n",
    "print(ac)\n",
    "pred = torch.softmax(model(validation_dataset[:][0]),1)\n",
    "ac = torch.sum(torch.argmax(pred,1)==validation_dataset[:][1]).to(dtype=torch.float32)/len(validation_dataset)\n",
    "print(ac)"
   ]
  }
 ],
 "metadata": {
  "jupytext": {
   "text_representation": {
    "extension": ".Rmd",
    "format_name": "rmarkdown",
    "format_version": "1.1",
    "jupytext_version": "1.2.4"
   }
  },
  "kernelspec": {
   "display_name": "Python 3",
   "language": "python",
   "name": "python3"
  },
  "language_info": {
   "codemirror_mode": {
    "name": "ipython",
    "version": 3
   },
   "file_extension": ".py",
   "mimetype": "text/x-python",
   "name": "python",
   "nbconvert_exporter": "python",
   "pygments_lexer": "ipython3",
   "version": "3.7.3"
  }
 },
 "nbformat": 4,
 "nbformat_minor": 4
}
